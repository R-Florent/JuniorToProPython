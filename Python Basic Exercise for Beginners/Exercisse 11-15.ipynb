{
 "cells": [
  {
   "metadata": {},
   "cell_type": "markdown",
   "source": [
    "Exercise 10: Create a new list from two list using the following condition\n",
    "\n",
    "Create a new list from two list using the following condition\n",
    "\n",
    "Given two list of numbers, write a program to create a new list such that the new list should contain odd numbers from the first list and even numbers from the second list."
   ],
   "id": "e8f493aec462521d"
  },
  {
   "metadata": {},
   "cell_type": "code",
   "outputs": [
    {
     "name": "stdout",
     "output_type": "stream",
     "text": [
      "result list: [25, 35, 40, 60, 90]\n"
     ]
    }
   ],
   "execution_count": 1,
   "source": [
    "def merge_list(list1, list2):\n",
    "    result_list = []\n",
    "    \n",
    "    # iterate first list\n",
    "    for num in list1:\n",
    "        # check if current number is odd\n",
    "        if num % 2 != 0:\n",
    "            # add odd number to result list\n",
    "            result_list.append(num)\n",
    "    \n",
    "    # iterate second list\n",
    "    for num in list2:\n",
    "        # check if current number is even\n",
    "        if num % 2 == 0:\n",
    "            # add even number to result list\n",
    "            result_list.append(num)\n",
    "    return result_list\n",
    "\n",
    "list1 = [10, 20, 25, 30, 35]\n",
    "list2 = [40, 45, 60, 75, 90]\n",
    "print(\"result list:\", merge_list(list1, list2))"
   ],
   "id": "initial_id"
  },
  {
   "metadata": {},
   "cell_type": "markdown",
   "source": [
    "Exercise 11: Write a Program to extract each digit from an integer in the reverse order.\n",
    "\n",
    "For example, If the given int is 7536, the output shall be “6 3 5 7“, with a space separating the digits."
   ],
   "id": "fc58428536928e67"
  },
  {
   "metadata": {
    "ExecuteTime": {
     "end_time": "2024-04-25T07:46:01.561445Z",
     "start_time": "2024-04-25T07:46:01.532460Z"
    }
   },
   "cell_type": "code",
   "source": [
    "number = 7536\n",
    "\n",
    "print(str(number)[::-1])"
   ],
   "id": "b54e933adfb69587",
   "outputs": [
    {
     "name": "stdout",
     "output_type": "stream",
     "text": [
      "6357\n"
     ]
    }
   ],
   "execution_count": 2
  },
  {
   "metadata": {},
   "cell_type": "markdown",
   "source": "Possible solution ",
   "id": "598661a97cc8aa9f"
  },
  {
   "metadata": {},
   "cell_type": "code",
   "outputs": [],
   "execution_count": null,
   "source": [
    "number = 7536\n",
    "print(\"Given number\", number)\n",
    "while number > 0:\n",
    "    # get the last digit\n",
    "    digit = number % 10\n",
    "    # remove the last digit and repeat the loop\n",
    "    number = number // 10\n",
    "    print(digit, end=\" \")"
   ],
   "id": "9964fa3976b52f6d"
  },
  {
   "metadata": {},
   "cell_type": "markdown",
   "source": "Exercise 12: Calculate income tax for the given income by adhering to the rules below\n",
   "id": "cd97bef8c4e09e8e"
  },
  {
   "metadata": {
    "ExecuteTime": {
     "end_time": "2024-04-25T12:31:02.751078Z",
     "start_time": "2024-04-25T12:31:02.744071Z"
    }
   },
   "cell_type": "code",
   "source": [
    "taxable_income = 13000\n",
    "\n",
    "\n",
    "def tax_calculatore(taxable_income):\n",
    "    income_tax = 0\n",
    "    #etape 1\n",
    "    if taxable_income < 10000 :\n",
    "        return income_tax\n",
    "    taxable_income = taxable_income - 10000\n",
    "    \n",
    "    #Etape 2\n",
    "    if taxable_income < 10000:\n",
    "        income_tax += taxable_income * 0.1\n",
    "    else:\n",
    "        income_tax += 10000 * 0.1\n",
    "        \n",
    "    if taxable_income <= 10000:\n",
    "        return income_tax\n",
    "    taxable_income = taxable_income - 10000\n",
    "        \n",
    "    #Etape 3\n",
    "    income_tax += taxable_income * 0.2\n",
    "    return income_tax\n",
    "    \n",
    "tax_calculatore(taxable_income)\n"
   ],
   "id": "48a8342eff792b45",
   "outputs": [
    {
     "data": {
      "text/plain": [
       "300.0"
      ]
     },
     "execution_count": 21,
     "metadata": {},
     "output_type": "execute_result"
    }
   ],
   "execution_count": 21
  },
  {
   "metadata": {},
   "cell_type": "markdown",
   "source": "Exercise 13: Print multiplication table from 1 to 10",
   "id": "3a02bb844cf4cdb6"
  },
  {
   "metadata": {},
   "cell_type": "code",
   "outputs": [],
   "execution_count": null,
   "source": "",
   "id": "2f16acca7a8cdda5"
  }
 ],
 "metadata": {
  "kernelspec": {
   "display_name": "Python 3",
   "language": "python",
   "name": "python3"
  },
  "language_info": {
   "codemirror_mode": {
    "name": "ipython",
    "version": 2
   },
   "file_extension": ".py",
   "mimetype": "text/x-python",
   "name": "python",
   "nbconvert_exporter": "python",
   "pygments_lexer": "ipython2",
   "version": "2.7.6"
  }
 },
 "nbformat": 4,
 "nbformat_minor": 5
}
