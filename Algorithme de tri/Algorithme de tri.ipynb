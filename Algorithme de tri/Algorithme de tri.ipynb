{
 "cells": [
  {
   "metadata": {},
   "cell_type": "markdown",
   "source": [
    "Tri à bulles\n",
    "\n",
    "\n"
   ],
   "id": "951581f5ff908e25"
  },
  {
   "metadata": {},
   "cell_type": "code",
   "outputs": [],
   "execution_count": null,
   "source": [
    "\"\"\"pseudo code : \n",
    "tri_à_bulles(Tableau T)\n",
    "   pour i allant de (taille de T)-1 à 1\n",
    "       pour j allant de 0 à i-1\n",
    "           si T[j+1] < T[j]\n",
    "               (T[j+1], T[j]) ← (T[j], T[j+1])\"\"\""
   ],
   "id": "27316595582db2f3"
  },
  {
   "metadata": {
    "ExecuteTime": {
     "end_time": "2024-04-26T12:06:29.674015Z",
     "start_time": "2024-04-26T12:06:29.658010Z"
    }
   },
   "cell_type": "code",
   "source": [
    "List_a_triée = [30,25,2,3,79,100,39,23,12,29,84,62,16,73]\n",
    "\n",
    "def tri_a_bulles(list):\n",
    "    for i in range(len(list) -1,-1,-1):\n",
    "        for j in range (0,i):\n",
    "            if list[j+1] < list[j]:\n",
    "                #print(list[j+1], \"est strictement inférieure à = \",list[j])\n",
    "                list[j],list[j+1] = list[j+1],list[j]\n",
    "            \n",
    "    print(list)\n",
    "#def swap_index (list) ->:\n",
    "        \n",
    "\n",
    "    \n",
    "    \n",
    "tri_a_bulles(List_a_triée)"
   ],
   "id": "632fe7ebfe21962c",
   "outputs": [
    {
     "name": "stdout",
     "output_type": "stream",
     "text": [
      "[2, 3, 12, 16, 23, 25, 29, 30, 39, 62, 73, 79, 84, 100]\n"
     ]
    }
   ],
   "execution_count": 30
  },
  {
   "metadata": {},
   "cell_type": "code",
   "outputs": [],
   "execution_count": null,
   "source": "",
   "id": "1a1c81c36f97756b"
  }
 ],
 "metadata": {
  "kernelspec": {
   "display_name": "Python 3",
   "language": "python",
   "name": "python3"
  },
  "language_info": {
   "codemirror_mode": {
    "name": "ipython",
    "version": 2
   },
   "file_extension": ".py",
   "mimetype": "text/x-python",
   "name": "python",
   "nbconvert_exporter": "python",
   "pygments_lexer": "ipython2",
   "version": "2.7.6"
  }
 },
 "nbformat": 4,
 "nbformat_minor": 5
}
