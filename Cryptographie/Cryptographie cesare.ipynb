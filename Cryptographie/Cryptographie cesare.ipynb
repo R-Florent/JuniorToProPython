{
 "cells": [
  {
   "metadata": {},
   "cell_type": "markdown",
   "source": "# Crpyto pgraphie cesare",
   "id": "872d557396831185"
  },
  {
   "metadata": {},
   "cell_type": "markdown",
   "source": "## Décfirement clef simple\n",
   "id": "af4817a506432184"
  },
  {
   "metadata": {
    "ExecuteTime": {
     "end_time": "2024-05-17T08:38:00.785054Z",
     "start_time": "2024-05-17T08:38:00.748686Z"
    }
   },
   "cell_type": "code",
   "source": [
    "code = \"SyberagRfgYrCyhfOrnhMmMNnN\"\n",
    "\n",
    "def caesar_cipher(chaine):\n",
    "    ascii_chaine = [ord(c) for c in chaine]\n",
    "    print(\"Le code ASCII est :\", ascii_chaine)\n",
    "\n",
    "    for i in range(1, 27):\n",
    "        result = []\n",
    "        for c in chaine:\n",
    "            if 'a' <= c <= 'z':\n",
    "                result.append(chr((ord(c) - ord('a') + i) % 26 + ord('a')))\n",
    "            elif 'A' <= c <= 'Z':\n",
    "                result.append(chr((ord(c) - ord('A') + i) % 26 + ord('A')))\n",
    "\n",
    "        result_chaine = ''.join(result)\n",
    "        print(f\"La phrase avec un décalage de {i} est : {result_chaine}\")\n",
    "\n",
    "\n",
    "print(\"Code ASCII de 'a' :\", ord(\"a\"))\n",
    "print(\"Code ASCII de 'z' :\", ord(\"z\"))\n",
    "print(\"Code ASCII de 'A' :\", ord(\"A\"))\n",
    "print(\"Code ASCII de 'Z' :\", ord(\"Z\"))\n",
    "\n",
    "caesar_cipher(code)"
   ],
   "id": "fa51f44f40e0829a",
   "execution_count": 1,
   "outputs": []
  },
  {
   "metadata": {},
   "cell_type": "markdown",
   "source": "## Codage de Vigenère",
   "id": "778d76aeed35d4c"
  },
  {
   "metadata": {
    "ExecuteTime": {
     "end_time": "2024-05-17T12:16:32.612406Z",
     "start_time": "2024-05-17T12:16:32.601230Z"
    }
   },
   "cell_type": "code",
   "source": [
    "code = \"FaxvrjtTbxYaPadwOaajIdMWaP\"\n",
    "cle = [0, 15, 9, 4, 13, 100]\n",
    "reversed_key = [26- e for e in cle ]#\n",
    "\n",
    "def caesar_cipher_key(chaine, key):\n",
    "    ascii_chaine = [ord(c) for c in chaine]\n",
    "    print(\"Le code ASCII est :\", ascii_chaine)\n",
    "    result_chaine = \"\"\n",
    "    result = []\n",
    "    for i in range(len(chaine)):\n",
    "\n",
    "        if 'a' <= chaine[i] <= 'z':\n",
    "            result.append(chr((ord(chaine[i]) - ord('a') + key[i%len(key)]) % 26 + ord('a')))\n",
    "        elif 'A' <= chaine[i] <= 'Z':\n",
    "            result.append(chr((ord(chaine[i]) - ord('A') + key[i%len(key)]) % 26 + ord('A')))\n",
    "    result_chaine = ''.join(result)\n",
    "\n",
    "    print(\"le result est :\", result_chaine)\n",
    "\n",
    "\n",
    "caesar_cipher_key(code, reversed_key)\n"
   ],
   "id": "954b0db6e26b53b1",
   "execution_count": 39,
   "outputs": []
  },
  {
   "metadata": {
    "ExecuteTime": {
     "end_time": "2024-05-17T10:12:00.149033Z",
     "start_time": "2024-05-17T10:12:00.127250Z"
    }
   },
   "cell_type": "code",
   "source": "",
   "id": "7856cd7b0190df05",
   "execution_count": 21,
   "outputs": []
  }
 ],
 "metadata": {
  "kernelspec": {
   "display_name": "Python 3",
   "language": "python",
   "name": "python3"
  },
  "language_info": {
   "codemirror_mode": {
    "name": "ipython",
    "version": 2
   },
   "file_extension": ".py",
   "mimetype": "text/x-python",
   "name": "python",
   "nbconvert_exporter": "python",
   "pygments_lexer": "ipython2",
   "version": "2.7.6"
  }
 },
 "nbformat": 4,
 "nbformat_minor": 5
}
