{
 "cells": [
  {
   "metadata": {},
   "cell_type": "markdown",
   "source": "# Crpyto pgraphie cesare",
   "id": "872d557396831185"
  },
  {
   "metadata": {},
   "cell_type": "markdown",
   "source": "## Décfirement clef simple\n",
   "id": "af4817a506432184"
  },
  {
   "metadata": {},
   "cell_type": "code",
   "outputs": [],
   "execution_count": null,
   "source": [
    "code = \"SyberagRfgYrCyhfOrnhMmMNnN\"\n",
    "\n",
    "def caesar_cipher(chaine):\n",
    "    ascii_chaine = [ord(c) for c in chaine]\n",
    "    print(\"Le code ASCII est :\", ascii_chaine)\n",
    "\n",
    "    for i in range(1, 27):\n",
    "        result = []\n",
    "        for c in chaine:\n",
    "            if 'a' <= c <= 'z':\n",
    "                result.append(chr((ord(c) - ord('a') + i) % 26 + ord('a')))\n",
    "            elif 'A' <= c <= 'Z':\n",
    "                result.append(chr((ord(c) - ord('A') + i) % 26 + ord('A')))\n",
    "\n",
    "        result_chaine = ''.join(result)\n",
    "        print(f\"La phrase avec un décalage de {i} est : {result_chaine}\")\n",
    "\n",
    "\n",
    "print(\"Code ASCII de 'a' :\", ord(\"a\"))\n",
    "print(\"Code ASCII de 'z' :\", ord(\"z\"))\n",
    "print(\"Code ASCII de 'A' :\", ord(\"A\"))\n",
    "print(\"Code ASCII de 'Z' :\", ord(\"Z\"))\n",
    "\n",
    "caesar_cipher(code)"
   ],
   "id": "fa51f44f40e0829a"
  },
  {
   "metadata": {},
   "cell_type": "markdown",
   "source": "## déchifrement clef multiple",
   "id": "778d76aeed35d4c"
  },
  {
   "metadata": {},
   "cell_type": "code",
   "outputs": [],
   "execution_count": null,
   "source": [
    "FaxvrjtTbxYaPadwOaajIdMWaP\n",
    "Clé : [0,15,9,4,13,100]\n",
    "\n",
    "\n",
    "def caesar_cipher_key(chaine,key):"
   ],
   "id": "954b0db6e26b53b1"
  }
 ],
 "metadata": {
  "kernelspec": {
   "display_name": "Python 3",
   "language": "python",
   "name": "python3"
  },
  "language_info": {
   "codemirror_mode": {
    "name": "ipython",
    "version": 2
   },
   "file_extension": ".py",
   "mimetype": "text/x-python",
   "name": "python",
   "nbconvert_exporter": "python",
   "pygments_lexer": "ipython2",
   "version": "2.7.6"
  }
 },
 "nbformat": 4,
 "nbformat_minor": 5
}
