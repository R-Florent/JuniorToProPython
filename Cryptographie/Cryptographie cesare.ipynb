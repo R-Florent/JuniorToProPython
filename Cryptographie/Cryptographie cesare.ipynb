{
 "cells": [
  {
   "metadata": {},
   "cell_type": "markdown",
   "source": "# Crpyto pgraphie cesare",
   "id": "872d557396831185"
  },
  {
   "metadata": {},
   "cell_type": "markdown",
   "source": "## Décfirement clef simple\n",
   "id": "af4817a506432184"
  },
  {
   "metadata": {
    "ExecuteTime": {
     "end_time": "2024-05-17T08:38:00.785054Z",
     "start_time": "2024-05-17T08:38:00.748686Z"
    }
   },
   "cell_type": "code",
   "source": [
    "code = \"SyberagRfgYrCyhfOrnhMmMNnN\"\n",
    "\n",
    "def caesar_cipher(chaine):\n",
    "    ascii_chaine = [ord(c) for c in chaine]\n",
    "    print(\"Le code ASCII est :\", ascii_chaine)\n",
    "\n",
    "    for i in range(1, 27):\n",
    "        result = []\n",
    "        for c in chaine:\n",
    "            if 'a' <= c <= 'z':\n",
    "                result.append(chr((ord(c) - ord('a') + i) % 26 + ord('a')))\n",
    "            elif 'A' <= c <= 'Z':\n",
    "                result.append(chr((ord(c) - ord('A') + i) % 26 + ord('A')))\n",
    "\n",
    "        result_chaine = ''.join(result)\n",
    "        print(f\"La phrase avec un décalage de {i} est : {result_chaine}\")\n",
    "\n",
    "\n",
    "print(\"Code ASCII de 'a' :\", ord(\"a\"))\n",
    "print(\"Code ASCII de 'z' :\", ord(\"z\"))\n",
    "print(\"Code ASCII de 'A' :\", ord(\"A\"))\n",
    "print(\"Code ASCII de 'Z' :\", ord(\"Z\"))\n",
    "\n",
    "caesar_cipher(code)"
   ],
   "id": "fa51f44f40e0829a",
   "outputs": [
    {
     "name": "stdout",
     "output_type": "stream",
     "text": [
      "Code ASCII de 'a' : 97\n",
      "Code ASCII de 'z' : 122\n",
      "Code ASCII de 'A' : 65\n",
      "Code ASCII de 'Z' : 90\n",
      "Le code ASCII est : [83, 121, 98, 101, 114, 97, 103, 82, 102, 103, 89, 114, 67, 121, 104, 102, 79, 114, 110, 104, 77, 109, 77, 78, 110, 78]\n",
      "La phrase avec un décalage de 1 est : TzcfsbhSghZsDzigPsoiNnNOoO\n",
      "La phrase avec un décalage de 2 est : UadgtciThiAtEajhQtpjOoOPpP\n",
      "La phrase avec un décalage de 3 est : VbehudjUijBuFbkiRuqkPpPQqQ\n",
      "La phrase avec un décalage de 4 est : WcfivekVjkCvGcljSvrlQqQRrR\n",
      "La phrase avec un décalage de 5 est : XdgjwflWklDwHdmkTwsmRrRSsS\n",
      "La phrase avec un décalage de 6 est : YehkxgmXlmExIenlUxtnSsSTtT\n",
      "La phrase avec un décalage de 7 est : ZfilyhnYmnFyJfomVyuoTtTUuU\n",
      "La phrase avec un décalage de 8 est : AgjmzioZnoGzKgpnWzvpUuUVvV\n",
      "La phrase avec un décalage de 9 est : BhknajpAopHaLhqoXawqVvVWwW\n",
      "La phrase avec un décalage de 10 est : CilobkqBpqIbMirpYbxrWwWXxX\n",
      "La phrase avec un décalage de 11 est : DjmpclrCqrJcNjsqZcysXxXYyY\n",
      "La phrase avec un décalage de 12 est : EknqdmsDrsKdOktrAdztYyYZzZ\n",
      "La phrase avec un décalage de 13 est : FlorentEstLePlusBeauZzZAaA\n",
      "La phrase avec un décalage de 14 est : GmpsfouFtuMfQmvtCfbvAaABbB\n",
      "La phrase avec un décalage de 15 est : HnqtgpvGuvNgRnwuDgcwBbBCcC\n",
      "La phrase avec un décalage de 16 est : IoruhqwHvwOhSoxvEhdxCcCDdD\n",
      "La phrase avec un décalage de 17 est : JpsvirxIwxPiTpywFieyDdDEeE\n",
      "La phrase avec un décalage de 18 est : KqtwjsyJxyQjUqzxGjfzEeEFfF\n",
      "La phrase avec un décalage de 19 est : LruxktzKyzRkVrayHkgaFfFGgG\n",
      "La phrase avec un décalage de 20 est : MsvyluaLzaSlWsbzIlhbGgGHhH\n",
      "La phrase avec un décalage de 21 est : NtwzmvbMabTmXtcaJmicHhHIiI\n",
      "La phrase avec un décalage de 22 est : OuxanwcNbcUnYudbKnjdIiIJjJ\n",
      "La phrase avec un décalage de 23 est : PvyboxdOcdVoZvecLokeJjJKkK\n",
      "La phrase avec un décalage de 24 est : QwzcpyePdeWpAwfdMplfKkKLlL\n",
      "La phrase avec un décalage de 25 est : RxadqzfQefXqBxgeNqmgLlLMmM\n",
      "La phrase avec un décalage de 26 est : SyberagRfgYrCyhfOrnhMmMNnN\n"
     ]
    }
   ],
   "execution_count": 1
  },
  {
   "metadata": {},
   "cell_type": "markdown",
   "source": "## Codage de Vigenère",
   "id": "778d76aeed35d4c"
  },
  {
   "metadata": {
    "ExecuteTime": {
     "end_time": "2024-05-17T12:16:32.612406Z",
     "start_time": "2024-05-17T12:16:32.601230Z"
    }
   },
   "cell_type": "code",
   "source": [
    "code = \"FaxvrjtTbxYaPadwOaajIdMWaP\"\n",
    "cle = [0, 15, 9, 4, 13, 100]\n",
    "reversed_key = [26- e for e in cle ]#\n",
    "\n",
    "def caesar_cipher_key(chaine, key):\n",
    "    ascii_chaine = [ord(c) for c in chaine]\n",
    "    print(\"Le code ASCII est :\", ascii_chaine)\n",
    "    result_chaine = \"\"\n",
    "    result = []\n",
    "    for i in range(len(chaine)):\n",
    "\n",
    "        if 'a' <= chaine[i] <= 'z':\n",
    "            result.append(chr((ord(chaine[i]) - ord('a') + key[i%len(key)]) % 26 + ord('a')))\n",
    "        elif 'A' <= chaine[i] <= 'Z':\n",
    "            result.append(chr((ord(chaine[i]) - ord('A') + key[i%len(key)]) % 26 + ord('A')))\n",
    "    result_chaine = ''.join(result)\n",
    "\n",
    "    print(\"le result est :\", result_chaine)\n",
    "\n",
    "\n",
    "caesar_cipher_key(code, reversed_key)\n"
   ],
   "id": "954b0db6e26b53b1",
   "outputs": [
    {
     "name": "stdout",
     "output_type": "stream",
     "text": [
      "Le code ASCII est : [70, 97, 120, 118, 114, 106, 116, 84, 98, 120, 89, 97, 80, 97, 100, 119, 79, 97, 97, 106, 73, 100, 77, 87, 97, 80]\n",
      "le result est : OpxrencIbtLeYpdsBejyIzZAjE\n"
     ]
    }
   ],
   "execution_count": 39
  },
  {
   "metadata": {
    "ExecuteTime": {
     "end_time": "2024-05-17T10:12:00.149033Z",
     "start_time": "2024-05-17T10:12:00.127250Z"
    }
   },
   "cell_type": "code",
   "source": "",
   "id": "7856cd7b0190df05",
   "outputs": [],
   "execution_count": 21
  }
 ],
 "metadata": {
  "kernelspec": {
   "display_name": "Python 3",
   "language": "python",
   "name": "python3"
  },
  "language_info": {
   "codemirror_mode": {
    "name": "ipython",
    "version": 2
   },
   "file_extension": ".py",
   "mimetype": "text/x-python",
   "name": "python",
   "nbconvert_exporter": "python",
   "pygments_lexer": "ipython2",
   "version": "2.7.6"
  }
 },
 "nbformat": 4,
 "nbformat_minor": 5
}
