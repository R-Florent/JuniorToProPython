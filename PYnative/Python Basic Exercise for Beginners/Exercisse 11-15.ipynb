{
 "cells": [
  {
   "metadata": {},
   "cell_type": "markdown",
   "source": [
    "Exercise 10: Create a new list from two list using the following condition\n",
    "\n",
    "Create a new list from two list using the following condition\n",
    "\n",
    "Given two list of numbers, write a program to create a new list such that the new list should contain odd numbers from the first list and even numbers from the second list."
   ],
   "id": "e8f493aec462521d"
  },
  {
   "metadata": {},
   "cell_type": "code",
   "outputs": [
    {
     "name": "stdout",
     "output_type": "stream",
     "text": [
      "result list: [25, 35, 40, 60, 90]\n"
     ]
    }
   ],
   "execution_count": 1,
   "source": [
    "def merge_list(list1, list2):\n",
    "    result_list = []\n",
    "    \n",
    "    # iterate first list\n",
    "    for num in list1:\n",
    "        # check if current number is odd\n",
    "        if num % 2 != 0:\n",
    "            # add odd number to result list\n",
    "            result_list.append(num)\n",
    "    \n",
    "    # iterate second list\n",
    "    for num in list2:\n",
    "        # check if current number is even\n",
    "        if num % 2 == 0:\n",
    "            # add even number to result list\n",
    "            result_list.append(num)\n",
    "    return result_list\n",
    "\n",
    "list1 = [10, 20, 25, 30, 35]\n",
    "list2 = [40, 45, 60, 75, 90]\n",
    "print(\"result list:\", merge_list(list1, list2))"
   ],
   "id": "initial_id"
  },
  {
   "metadata": {},
   "cell_type": "markdown",
   "source": [
    "Exercise 11: Write a Program to extract each digit from an integer in the reverse order.\n",
    "\n",
    "For example, If the given int is 7536, the output shall be “6 3 5 7“, with a space separating the digits."
   ],
   "id": "fc58428536928e67"
  },
  {
   "metadata": {
    "ExecuteTime": {
     "end_time": "2024-04-25T07:46:01.561445Z",
     "start_time": "2024-04-25T07:46:01.532460Z"
    }
   },
   "cell_type": "code",
   "source": [
    "number = 7536\n",
    "\n",
    "print(str(number)[::-1])"
   ],
   "id": "b54e933adfb69587",
   "outputs": [
    {
     "name": "stdout",
     "output_type": "stream",
     "text": [
      "6357\n"
     ]
    }
   ],
   "execution_count": 2
  },
  {
   "metadata": {},
   "cell_type": "markdown",
   "source": "Possible solution ",
   "id": "598661a97cc8aa9f"
  },
  {
   "metadata": {},
   "cell_type": "code",
   "outputs": [],
   "execution_count": null,
   "source": [
    "number = 7536\n",
    "print(\"Given number\", number)\n",
    "while number > 0:\n",
    "    # get the last digit\n",
    "    digit = number % 10\n",
    "    # remove the last digit and repeat the loop\n",
    "    number = number // 10\n",
    "    print(digit, end=\" \")"
   ],
   "id": "9964fa3976b52f6d"
  },
  {
   "metadata": {},
   "cell_type": "markdown",
   "source": "Exercise 12: Calculate income tax for the given income by adhering to the rules below\n",
   "id": "cd97bef8c4e09e8e"
  },
  {
   "metadata": {
    "ExecuteTime": {
     "end_time": "2024-04-25T12:31:02.751078Z",
     "start_time": "2024-04-25T12:31:02.744071Z"
    }
   },
   "cell_type": "code",
   "source": [
    "taxable_income = 13000\n",
    "\n",
    "\n",
    "def tax_calculatore(taxable_income):\n",
    "    income_tax = 0\n",
    "    #etape 1\n",
    "    if taxable_income < 10000 :\n",
    "        return income_tax\n",
    "    taxable_income = taxable_income - 10000\n",
    "    \n",
    "    #Etape 2\n",
    "    if taxable_income < 10000:\n",
    "        income_tax += taxable_income * 0.1\n",
    "    else:\n",
    "        income_tax += 10000 * 0.1\n",
    "        \n",
    "    if taxable_income <= 10000:\n",
    "        return income_tax\n",
    "    taxable_income = taxable_income - 10000\n",
    "        \n",
    "    #Etape 3\n",
    "    income_tax += taxable_income * 0.2\n",
    "    return income_tax\n",
    "    \n",
    "tax_calculatore(taxable_income)\n"
   ],
   "id": "48a8342eff792b45",
   "outputs": [
    {
     "data": {
      "text/plain": [
       "300.0"
      ]
     },
     "execution_count": 21,
     "metadata": {},
     "output_type": "execute_result"
    }
   ],
   "execution_count": 21
  },
  {
   "metadata": {},
   "cell_type": "markdown",
   "source": [
    "Exercise 13: Print multiplication table from 1 to 10\n",
    "\n",
    "Expected Output:\n",
    "\n",
    "1  2 3 4 5 6 7 8 9 10 \t\t\n",
    "2  4 6 8 10 12 14 16 18 20 \t\t\n",
    "3  6 9 12 15 18 21 24 27 30 \t\t\n",
    "4  8 12 16 20 24 28 32 36 40 \t\t\n",
    "5  10 15 20 25 30 35 40 45 50 \t\t\n",
    "6  12 18 24 30 36 42 48 54 60 \t\t\n",
    "7  14 21 28 35 42 49 56 63 70 \t\t\n",
    "8  16 24 32 40 48 56 64 72 80 \t\t\n",
    "9  18 27 36 45 54 63 72 81 90 \t\t\n",
    "10 20 30 40 50 60 70 80 90 100 "
   ],
   "id": "3a02bb844cf4cdb6"
  },
  {
   "metadata": {
    "ExecuteTime": {
     "end_time": "2024-04-25T12:54:31.120238Z",
     "start_time": "2024-04-25T12:54:31.110636Z"
    }
   },
   "cell_type": "code",
   "source": [
    "for i in range(1,11):\n",
    "    for j in range (1,11):\n",
    "        print(i*j, end=\" \")\n",
    "    print(\"\\t\")"
   ],
   "id": "2f16acca7a8cdda5",
   "outputs": [
    {
     "name": "stdout",
     "output_type": "stream",
     "text": [
      "1 2 3 4 5 6 7 8 9 10 \t\n",
      "2 4 6 8 10 12 14 16 18 20 \t\n",
      "3 6 9 12 15 18 21 24 27 30 \t\n",
      "4 8 12 16 20 24 28 32 36 40 \t\n",
      "5 10 15 20 25 30 35 40 45 50 \t\n",
      "6 12 18 24 30 36 42 48 54 60 \t\n",
      "7 14 21 28 35 42 49 56 63 70 \t\n",
      "8 16 24 32 40 48 56 64 72 80 \t\n",
      "9 18 27 36 45 54 63 72 81 90 \t\n",
      "10 20 30 40 50 60 70 80 90 100 \t\n"
     ]
    }
   ],
   "execution_count": 37
  },
  {
   "metadata": {},
   "cell_type": "markdown",
   "source": [
    "Exercise 14: Print a downward Half-Pyramid Pattern of Star (asterisk)\n",
    "\n",
    "* * *  "
   ],
   "id": "d921754f2dc50bae"
  },
  {
   "metadata": {
    "ExecuteTime": {
     "end_time": "2024-04-25T13:35:04.311688Z",
     "start_time": "2024-04-25T13:35:04.302525Z"
    }
   },
   "cell_type": "code",
   "source": [
    "for i in range(5, 0, -1):\n",
    "    print(i*'*',end='  '+'\\n')"
   ],
   "id": "ca984fc88073f886",
   "outputs": [
    {
     "name": "stdout",
     "output_type": "stream",
     "text": [
      "*****  \n",
      "****  \n",
      "***  \n",
      "**  \n",
      "*  \n"
     ]
    }
   ],
   "execution_count": 77
  },
  {
   "metadata": {
    "ExecuteTime": {
     "end_time": "2024-04-25T13:33:42.470341Z",
     "start_time": "2024-04-25T13:33:42.462347Z"
    }
   },
   "cell_type": "code",
   "source": [
    "for j in range(5,0,-1):\n",
    "    print()\n",
    "    for i in range(j, 0, -1):\n",
    "        print('*', end=' ')"
   ],
   "id": "989b013140d780af",
   "outputs": [
    {
     "name": "stdout",
     "output_type": "stream",
     "text": [
      "\n",
      "* * * * * \n",
      "* * * * \n",
      "* * * \n",
      "* * \n",
      "* "
     ]
    }
   ],
   "execution_count": 72
  },
  {
   "metadata": {},
   "cell_type": "markdown",
   "source": [
    "Exercise 15: Write a function called exponent(base, exp) that returns an int value of base raises to the power of exp.\n",
    "\n",
    "***\n",
    "Note here exp is a non-negative integer, and the base is an integer.\n",
    "\n",
    "Expected output\n",
    "\n",
    "Case 1:\n",
    "\n",
    "base = 2\n",
    "exponent = 5\n",
    "\n",
    "2 raises to the power of 5: 32 i.e. (2 *2 * 2 *2 *2 = 32)\n",
    "Case 2:\n",
    "\n",
    "base = 5\n",
    "exponent = 4\n",
    "\n",
    "5 raises to the power of 4 is: 625 \n",
    "i.e. (5 *5 * 5 *5 = 625)"
   ],
   "id": "f1320da8aff1d379"
  },
  {
   "metadata": {
    "ExecuteTime": {
     "end_time": "2024-05-08T08:56:53.423827Z",
     "start_time": "2024-05-08T08:56:53.386544Z"
    }
   },
   "cell_type": "code",
   "source": [
    "base = 2\n",
    "exp = 5\n",
    "\n",
    "\n",
    "def exponent(base, exp):\n",
    "    print(\"base = \", base)\n",
    "    print(\"exp =\", exp)\n",
    "    produit = 1\n",
    "    affichage = \"i.e.(\"\n",
    "    for i in range(exp -1, 0, -1):\n",
    "        produit = produit*base\n",
    "        affichage = affichage + f\"{base}*\"\n",
    "\n",
    "    produit = produit * base\n",
    "    affichage = affichage + f\"{base}\"\n",
    "    affichage += f\"={produit})\"\n",
    "\n",
    "    print(base, \"raises to the power of\", exp, \"is :\", produit,affichage)\n",
    "\n",
    "\n",
    "exponent(base, exp)"
   ],
   "id": "4cfafc66e47aba54",
   "outputs": [
    {
     "name": "stdout",
     "output_type": "stream",
     "text": [
      "base =  2\n",
      "exp = 5\n",
      "6250\n",
      "2 raises to the power of 5 is : 32 i.e.(2*2*2*2*2=32)\n"
     ]
    }
   ],
   "execution_count": 1
  },
  {
   "metadata": {},
   "cell_type": "markdown",
   "source": "Exercise 16 : Write a function can résolve a équtaion du seconde degrée",
   "id": "2a835c530c29094b"
  },
  {
   "metadata": {
    "ExecuteTime": {
     "end_time": "2024-04-27T17:32:17.992229Z",
     "start_time": "2024-04-27T17:32:09.425995Z"
    }
   },
   "cell_type": "code",
   "source": [
    "from math import *\n",
    "a = int(input())\n",
    "b = int(input())\n",
    "c = int(input())\n",
    "\n",
    "def calcul_f_seconde_degrée(coeficein_direvteur,coeficein_b,chiffre):\n",
    "    delta = (coeficein_b*coeficein_b)-(4*coeficein_direvteur*chiffre)\n",
    "    print(\"la valeure de est :\",delta)\n",
    "    solution1 =0\n",
    "    solution2 =0\n",
    "    if delta > 0 :\n",
    "        print(\"il y a alors 2 solution :\")\n",
    "        solution1 = (sqrt(delta)-coeficein_b)/(2*coeficein_direvteur)\n",
    "        solution2 = (sqrt(-delta)-coeficein_b)/(2*coeficein_direvteur)\n",
    "        \n",
    "    elif delta == 0:\n",
    "        print(\"il y a alors 1 solution :\")\n",
    "        solution1 = (-coeficein_b)/(2*coeficein_direvteur)   \n",
    "    else:\n",
    "        print(\"il n'y a pas de solution\")\n",
    "        \n",
    "    \n",
    "calcul_f_seconde_degrée(a,b,c)"
   ],
   "id": "74919771cb4ddcc5",
   "outputs": [
    {
     "name": "stdout",
     "output_type": "stream",
     "text": [
      "la valeure de est : -47\n",
      "il n'y a pas de solution\n"
     ]
    }
   ],
   "execution_count": 3
  },
  {
   "metadata": {},
   "cell_type": "code",
   "outputs": [],
   "execution_count": null,
   "source": "",
   "id": "789e450f25359332"
  }
 ],
 "metadata": {
  "kernelspec": {
   "display_name": "Python 3",
   "language": "python",
   "name": "python3"
  },
  "language_info": {
   "codemirror_mode": {
    "name": "ipython",
    "version": 2
   },
   "file_extension": ".py",
   "mimetype": "text/x-python",
   "name": "python",
   "nbconvert_exporter": "python",
   "pygments_lexer": "ipython2",
   "version": "2.7.6"
  }
 },
 "nbformat": 4,
 "nbformat_minor": 5
}
