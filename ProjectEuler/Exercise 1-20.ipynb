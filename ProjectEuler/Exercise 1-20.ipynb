{
 "cells": [
  {
   "cell_type": "code",
   "execution_count": null,
   "id": "initial_id",
   "metadata": {
    "collapsed": true
   },
   "outputs": [],
   "source": [
    ""
   ]
  },
  {
   "metadata": {},
   "cell_type": "markdown",
   "source": [
    "PROJECT EULER\n",
    "#\n",
    "If we list all the natural numbers below 10\n",
    " that are multiples of 3\n",
    " or 5\n",
    ", we get 3,5,6\n",
    " and 9\n",
    ". The sum of these multiples is 23\n",
    ".\n",
    "\n",
    "Find the sum of all the multiples of 3\n",
    " or 5\n",
    " below 1000 \n",
    "."
   ],
   "id": "dc11334eaf9e9892"
  },
  {
   "metadata": {
    "ExecuteTime": {
     "end_time": "2024-05-14T15:50:36.264581Z",
     "start_time": "2024-05-14T15:50:36.254586Z"
    }
   },
   "cell_type": "code",
   "source": [
    "sum_1000 = 0\n",
    "for i in range(1, 1000, 1):\n",
    "    if i%5 == 1 or i%3 == 1:\n",
    "        sum_1000 += i\n",
    "\n",
    "print(sum_1000)"
   ],
   "id": "370c3e07df89e0a2",
   "outputs": [
    {
     "name": "stdout",
     "output_type": "stream",
     "text": [
      "232635\n"
     ]
    }
   ],
   "execution_count": 19
  },
  {
   "metadata": {},
   "cell_type": "markdown",
   "source": "",
   "id": "46630541ddd3dac7"
  },
  {
   "metadata": {
    "ExecuteTime": {
     "end_time": "2024-05-14T15:16:23.656027Z",
     "start_time": "2024-05-14T15:16:23.646835Z"
    }
   },
   "cell_type": "code",
   "source": "",
   "id": "a5f8ced34e7f66cc",
   "outputs": [
    {
     "name": "stdout",
     "output_type": "stream",
     "text": [
      "232635\n"
     ]
    }
   ],
   "execution_count": 14
  },
  {
   "metadata": {
    "ExecuteTime": {
     "end_time": "2024-05-14T15:16:34.251818Z",
     "start_time": "2024-05-14T15:16:34.241188Z"
    }
   },
   "cell_type": "code",
   "source": "",
   "id": "80985a1935f7c966",
   "outputs": [],
   "execution_count": 16
  }
 ],
 "metadata": {
  "kernelspec": {
   "display_name": "Python 3",
   "language": "python",
   "name": "python3"
  },
  "language_info": {
   "codemirror_mode": {
    "name": "ipython",
    "version": 2
   },
   "file_extension": ".py",
   "mimetype": "text/x-python",
   "name": "python",
   "nbconvert_exporter": "python",
   "pygments_lexer": "ipython2",
   "version": "2.7.6"
  }
 },
 "nbformat": 4,
 "nbformat_minor": 5
}
