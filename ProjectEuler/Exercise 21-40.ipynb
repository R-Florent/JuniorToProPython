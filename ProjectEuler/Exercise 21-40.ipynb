{
 "cells": [
  {
   "metadata": {},
   "cell_type": "markdown",
   "source": [
    "# Project Euler\n",
    "\n",
    "# Problem 21\n",
    "\n",
    "## Amicable Numbers\n",
    "\n",
    "Let d(n) be defined as the sum of proper divisors of n (numbers less than n which divide evenly into n ). \n",
    "\n",
    "If d(a) = b and d(b) = a ,where a != b\n",
    ", then a \n",
    " b and are an amicable pair and each of \n",
    " a and b\n",
    " are called amicable numbers.\n",
    "\n",
    "For example, the proper divisors of 220 \n",
    " are 1,2,3,4,5,10,11,20,22,44,55 and 110\n",
    "; therefore d(220) =  284 \n",
    ". The proper divisors of 284 \n",
    " are 1,2,4,71\n",
    " and 142\n",
    "; so d(284)= 220\n",
    ".\n",
    "\n",
    "Evaluate the sum of all the amicable numbers under 10 000\n",
    "."
   ],
   "id": "2ba99aa73d198f3e"
  },
  {
   "metadata": {},
   "cell_type": "code",
   "outputs": [],
   "execution_count": null,
   "source": "",
   "id": "da5df0fa29f9579b"
  }
 ],
 "metadata": {
  "kernelspec": {
   "display_name": "Python 3",
   "language": "python",
   "name": "python3"
  },
  "language_info": {
   "codemirror_mode": {
    "name": "ipython",
    "version": 2
   },
   "file_extension": ".py",
   "mimetype": "text/x-python",
   "name": "python",
   "nbconvert_exporter": "python",
   "pygments_lexer": "ipython2",
   "version": "2.7.6"
  }
 },
 "nbformat": 4,
 "nbformat_minor": 5
}
