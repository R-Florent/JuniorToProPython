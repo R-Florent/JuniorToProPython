{
 "cells": [
  {
   "metadata": {},
   "cell_type": "markdown",
   "source": [
    "# Project Euler\n",
    "\n",
    "# Problem 21\n",
    "\n",
    "## Amicable Numbers\n",
    "\n",
    "Let d(n) be defined as the sum of proper divisors of n (numbers less than n which divide evenly into n ). \n",
    "\n",
    "If d(a) = b and d(b) = a ,where a != b\n",
    ", then a \n",
    " b and are an amicable pair and each of \n",
    " a and b\n",
    " are called amicable numbers.\n",
    "\n",
    "For example, the proper divisors of 220 \n",
    " are 1,2,3,4,5,10,11,20,22,44,55 and 110\n",
    "; therefore d(220) =  284 \n",
    ". The proper divisors of 284 \n",
    " are 1,2,4,71\n",
    " and 142\n",
    "; so d(284)= 220\n",
    ".\n",
    "\n",
    "Evaluate the sum of all the amicable numbers under 10 000\n",
    "."
   ],
   "id": "2ba99aa73d198f3e"
  },
  {
   "metadata": {
    "ExecuteTime": {
     "end_time": "2024-07-02T14:44:59.346055Z",
     "start_time": "2024-07-02T14:44:52.912267Z"
    }
   },
   "cell_type": "code",
   "source": [
    "def crible_eratosthene(n):\n",
    "    premiers = [True] * (n + 1)\n",
    "    premiers[0] = premiers[1] = False\n",
    "\n",
    "    p = 2\n",
    "    while p * p <= n:\n",
    "        if premiers[p]:\n",
    "            for i in range(p * p, n + 1, p):\n",
    "                premiers[i] = False\n",
    "        p += 1\n",
    "\n",
    "    return [p for p in range(n + 1) if premiers[p]]\n",
    "\n",
    "def trouver_diviseurs(n):\n",
    "    era = crible_eratosthene(n)\n",
    "    dic = {}\n",
    "\n",
    "    for prime in era:\n",
    "        if n % prime == 0:\n",
    "            count = 0\n",
    "            while n % prime == 0:\n",
    "                n //= prime\n",
    "                count += 1\n",
    "            dic[prime] = count\n",
    "    return dic\n",
    "\n",
    "def generate_combinations(dic):\n",
    "    prime_number = list(dic.keys())\n",
    "    results = []\n",
    "\n",
    "    def all_diviseur(index_dic, current):\n",
    "        if index_dic >= len(prime_number):\n",
    "            results.append(current.copy())\n",
    "            return\n",
    "\n",
    "        prime_key = prime_number[index_dic]\n",
    "        max_exponent = dic[prime_key]\n",
    "\n",
    "        for exponent in range(max_exponent + 1):\n",
    "            current.append(prime_key ** exponent)\n",
    "            all_diviseur(index_dic + 1, current)\n",
    "            current.pop()\n",
    "\n",
    "    all_diviseur(0, [])\n",
    "    return results\n",
    "\n",
    "def list_all_diviseur(n):\n",
    "    dic = trouver_diviseurs(n)\n",
    "    diviseur = set()  # Utiliser un set pour éviter les doublons\n",
    "    combinations = generate_combinations(dic)\n",
    "    for combi in combinations:\n",
    "        product = 1\n",
    "        for number in combi:\n",
    "            product *= number\n",
    "        if product != n:  # Exclure le nombre lui-même\n",
    "            diviseur.add(product)\n",
    "    return list(diviseur)\n",
    "\n",
    "def sum_of_proper_divisors(n):\n",
    "    divisors = list_all_diviseur(n)\n",
    "    return sum(divisors)\n",
    "\n",
    "def find_amicable_numbers(limit):\n",
    "    amicable_numbers = set()\n",
    "    for a in range(2, limit):\n",
    "        b = sum_of_proper_divisors(a)\n",
    "        if b != a and sum_of_proper_divisors(b) == a:\n",
    "            amicable_numbers.add(a)\n",
    "            amicable_numbers.add(b)\n",
    "    return sum(amicable_numbers)\n",
    "\n",
    "# Calculer la somme de tous les nombres amicaux sous 10 000\n",
    "amicable_numbers_sum = find_amicable_numbers(10_000)\n",
    "print(amicable_numbers_sum)\n"
   ],
   "id": "da5df0fa29f9579b",
   "outputs": [
    {
     "name": "stdout",
     "output_type": "stream",
     "text": [
      "31626\n"
     ]
    }
   ],
   "execution_count": 5
  },
  {
   "metadata": {
    "ExecuteTime": {
     "end_time": "2024-06-28T10:20:01.917447Z",
     "start_time": "2024-06-28T10:20:01.903454Z"
    }
   },
   "cell_type": "code",
   "source": [
    "amicable_numbers = 10_000\n",
    "\n",
    "def crible_eratosthene(n):\n",
    "    premiers = [True] * (n + 1)\n",
    "    premiers[0] = premiers[1] = False\n",
    "\n",
    "    p = 2\n",
    "    while p * p <= n:\n",
    "        if premiers[p]:\n",
    "            for i in range(p * p, n + 1, p):\n",
    "                premiers[i] = False\n",
    "        p += 1\n",
    "\n",
    "    return [p for p in range(n + 1) if premiers[p]]\n",
    "\n",
    "def trouver_diviseurs(n):\n",
    "    era = crible_eratosthene(n)\n",
    "    original_n = n  # Garder la valeur originale de n\n",
    "    dic = {}\n",
    "\n",
    "    for prime in era:\n",
    "        if n % prime == 0:\n",
    "            count = 0\n",
    "            while n % prime == 0:\n",
    "                n //= prime\n",
    "                count += 1\n",
    "            dic[prime] = count\n",
    "    return dic\n",
    "\n",
    "dic = {2: 3, 3: 2, 7: 2}\n",
    "\n",
    "def generate_combinations(dic):\n",
    "    prime_number = list(dic.keys())\n",
    "    results = []\n",
    "\n",
    "    def all_diviseur(index_dic, current):\n",
    "        if index_dic >= len(prime_number):\n",
    "            results.append(current.copy())\n",
    "            return\n",
    "\n",
    "        prime_key = prime_number[index_dic]\n",
    "        max_exponent = dic[prime_key]\n",
    "\n",
    "        for exponent in range(max_exponent + 1):\n",
    "            current.append(prime_key ** exponent)\n",
    "            all_diviseur(index_dic + 1, current)\n",
    "            current.pop()\n",
    "\n",
    "    all_diviseur(0, [])\n",
    "    return results\n",
    "\n",
    "def list_all_diviseur():\n",
    "    diviseur = []\n",
    "    combinations = generate_combinations(dic)\n",
    "    for combi in combinations:\n",
    "        product = 1\n",
    "        for number in combi:\n",
    "            product *= number\n",
    "        diviseur.append(product)\n",
    "    return diviseur\n",
    "\n",
    "def create_dic_n_diviseur(n):\n",
    "    divisors_dict = {}\n",
    "    for i in range(2, n + 1):\n",
    "        divisors = list_all_diviseur(i)\n",
    "        divisors_dict[i] = divisors\n",
    "    return divisors_dict\n",
    "\n",
    "for i in range(1,amicable_numbers):\n",
    "    print(create_dic_n_diviseur(i))\n"
   ],
   "id": "f7fcf6920d100890",
   "outputs": [],
   "execution_count": 14
  },
  {
   "metadata": {
    "ExecuteTime": {
     "end_time": "2024-07-03T15:51:41.993464Z",
     "start_time": "2024-07-03T15:51:41.923699Z"
    }
   },
   "cell_type": "code",
   "source": [
    "def find_divider(n):\n",
    "    divisors = [1]\n",
    "    for i in range(2, int(n**0.5) + 1):\n",
    "        if n % i == 0:\n",
    "            divisors.append(i)\n",
    "            if i != n // i:\n",
    "                divisors.append(n // i)\n",
    "    return divisors\n",
    "adi = 0\n",
    "for i in range(1, 10001):\n",
    "    sum_divi = sum(find_divider(i))\n",
    "    f_b = sum(find_divider(sum_divi))\n",
    "    if i == f_b and i != sum_divi:\n",
    "        adi += i\n",
    "print(adi)"
   ],
   "id": "6aca43b52f202148",
   "outputs": [
    {
     "name": "stdout",
     "output_type": "stream",
     "text": [
      "31626\n"
     ]
    }
   ],
   "execution_count": 1
  },
  {
   "metadata": {},
   "cell_type": "markdown",
   "source": [
    "# Problem 22\n",
    "\n",
    "## Names Scores\n",
    "\n",
    "Using names.txt (right click and 'Save Link/Target As...'), a 46K text file containing over five-thousand first names, begin by sorting it into alphabetical order. Then working out the alphabetical value for each name, multiply this value by its alphabetical position in the list to obtain a name score.\n",
    "\n",
    "For example, when the list is sorted into alphabetical order, COLIN, which is worth \n",
    "3 + 15 + 12 + 9 + 14 = 53, is the \n",
    "th name in the list. So, COLIN would obtain a score of \n",
    "938 * 53 = 49714\n",
    "\n",
    "What is the total of all the name scores in the file?"
   ],
   "id": "eded855ebda6eba4"
  },
  {
   "metadata": {},
   "cell_type": "markdown",
   "source": "",
   "id": "2b57c9324b25211d"
  },
  {
   "metadata": {
    "ExecuteTime": {
     "end_time": "2024-07-19T15:03:06.004128Z",
     "start_time": "2024-07-19T15:03:05.861583Z"
    }
   },
   "cell_type": "code",
   "source": [
    "with open('0022_names.txt') as f:\n",
    "    contenu = f.read()\n",
    "    contenu = contenu.replace('\"','')\n",
    "    contenu = contenu.split(\",\")\n",
    "    contenu.sort()\n",
    "\n",
    "sum_of_fichier_txt =0\n",
    "for prenom in  contenu:\n",
    "    sum_of_prenom = 0\n",
    "    for lettre in prenom:\n",
    "        sum_of_prenom += ord(lettre) - ord('A') +1\n",
    "    sum_of_fichier_txt += sum_of_prenom * (contenu.index(prenom)+1)\n",
    "print(sum_of_fichier_txt)\n"
   ],
   "id": "df27a784dd8ff3d8",
   "outputs": [
    {
     "name": "stdout",
     "output_type": "stream",
     "text": [
      "871198282\n"
     ]
    }
   ],
   "execution_count": 22
  },
  {
   "metadata": {},
   "cell_type": "markdown",
   "source": [
    "# Problem 23\n",
    "\n",
    "## Non-abundant Sums \n"
   ],
   "id": "f686bc5431ca0a90"
  },
  {
   "metadata": {},
   "cell_type": "markdown",
   "source": "",
   "id": "55acfd3d58b54c24"
  },
  {
   "metadata": {
    "ExecuteTime": {
     "end_time": "2024-07-11T08:13:18.318923Z",
     "start_time": "2024-07-11T08:13:18.287671Z"
    }
   },
   "cell_type": "code",
   "source": [
    "\n",
    "def deficient():\n",
    "    for i in range(1,28):\n",
    "        for y in range(1,i//2 +1):\n",
    "            if i//y == 0:\n",
    "                print('i se fait diviser par :',y)\n",
    "\n",
    "         \n",
    "deficient()"
   ],
   "id": "fc3e021c0f8870aa",
   "outputs": [],
   "execution_count": 2
  },
  {
   "metadata": {},
   "cell_type": "code",
   "outputs": [],
   "execution_count": null,
   "source": "",
   "id": "d1d35989bb120ca2"
  }
 ],
 "metadata": {
  "kernelspec": {
   "display_name": "Python 3",
   "language": "python",
   "name": "python3"
  },
  "language_info": {
   "codemirror_mode": {
    "name": "ipython",
    "version": 2
   },
   "file_extension": ".py",
   "mimetype": "text/x-python",
   "name": "python",
   "nbconvert_exporter": "python",
   "pygments_lexer": "ipython2",
   "version": "2.7.6"
  }
 },
 "nbformat": 4,
 "nbformat_minor": 5
}
