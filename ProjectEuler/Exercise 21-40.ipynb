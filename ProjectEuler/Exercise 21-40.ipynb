{
 "cells": [
  {
   "cell_type": "markdown",
   "id": "2ba99aa73d198f3e",
   "metadata": {},
   "source": [
    "# Project Euler\n",
    "\n",
    "# Problem 21\n",
    "\n",
    "## Amicable Numbers\n",
    "\n",
    "Let d(n) be defined as the sum of proper divisors of n (numbers less than n which divide evenly into n ). \n",
    "\n",
    "If d(a) = b and d(b) = a ,where a != b\n",
    ", then a \n",
    " b and are an amicable pair and each of \n",
    " a and b\n",
    " are called amicable numbers.\n",
    "\n",
    "For example, the proper divisors of 220 \n",
    " are 1,2,3,4,5,10,11,20,22,44,55 and 110\n",
    "; therefore d(220) =  284 \n",
    ". The proper divisors of 284 \n",
    " are 1,2,4,71\n",
    " and 142\n",
    "; so d(284)= 220\n",
    ".\n",
    "\n",
    "Evaluate the sum of all the amicable numbers under 10 000\n",
    "."
   ]
  },
  {
   "cell_type": "code",
   "execution_count": 5,
   "id": "da5df0fa29f9579b",
   "metadata": {
    "ExecuteTime": {
     "end_time": "2024-07-02T14:44:59.346055Z",
     "start_time": "2024-07-02T14:44:52.912267Z"
    }
   },
   "outputs": [
    {
     "name": "stdout",
     "output_type": "stream",
     "text": [
      "31626\n"
     ]
    }
   ],
   "source": [
    "def crible_eratosthene(n):\n",
    "    premiers = [True] * (n + 1)\n",
    "    premiers[0] = premiers[1] = False\n",
    "\n",
    "    p = 2\n",
    "    while p * p <= n:\n",
    "        if premiers[p]:\n",
    "            for i in range(p * p, n + 1, p):\n",
    "                premiers[i] = False\n",
    "        p += 1\n",
    "\n",
    "    return [p for p in range(n + 1) if premiers[p]]\n",
    "\n",
    "def trouver_diviseurs(n):\n",
    "    era = crible_eratosthene(n)\n",
    "    dic = {}\n",
    "\n",
    "    for prime in era:\n",
    "        if n % prime == 0:\n",
    "            count = 0\n",
    "            while n % prime == 0:\n",
    "                n //= prime\n",
    "                count += 1\n",
    "            dic[prime] = count\n",
    "    return dic\n",
    "\n",
    "def generate_combinations(dic):\n",
    "    prime_number = list(dic.keys())\n",
    "    results = []\n",
    "\n",
    "    def all_diviseur(index_dic, current):\n",
    "        if index_dic >= len(prime_number):\n",
    "            results.append(current.copy())\n",
    "            return\n",
    "\n",
    "        prime_key = prime_number[index_dic]\n",
    "        max_exponent = dic[prime_key]\n",
    "\n",
    "        for exponent in range(max_exponent + 1):\n",
    "            current.append(prime_key ** exponent)\n",
    "            all_diviseur(index_dic + 1, current)\n",
    "            current.pop()\n",
    "\n",
    "    all_diviseur(0, [])\n",
    "    return results\n",
    "\n",
    "def list_all_diviseur(n):\n",
    "    dic = trouver_diviseurs(n)\n",
    "    diviseur = set()  # Utiliser un set pour éviter les doublons\n",
    "    combinations = generate_combinations(dic)\n",
    "    for combi in combinations:\n",
    "        product = 1\n",
    "        for number in combi:\n",
    "            product *= number\n",
    "        if product != n:  # Exclure le nombre lui-même\n",
    "            diviseur.add(product)\n",
    "    return list(diviseur)\n",
    "\n",
    "def sum_of_proper_divisors(n):\n",
    "    divisors = list_all_diviseur(n)\n",
    "    return sum(divisors)\n",
    "\n",
    "def find_amicable_numbers(limit):\n",
    "    amicable_numbers = set()\n",
    "    for a in range(2, limit):\n",
    "        b = sum_of_proper_divisors(a)\n",
    "        if b != a and sum_of_proper_divisors(b) == a:\n",
    "            amicable_numbers.add(a)\n",
    "            amicable_numbers.add(b)\n",
    "    return sum(amicable_numbers)\n",
    "\n",
    "# Calculer la somme de tous les nombres amicaux sous 10 000\n",
    "amicable_numbers_sum = find_amicable_numbers(10_000)\n",
    "print(amicable_numbers_sum)\n"
   ]
  },
  {
   "cell_type": "code",
   "execution_count": 14,
   "id": "f7fcf6920d100890",
   "metadata": {
    "ExecuteTime": {
     "end_time": "2024-06-28T10:20:01.917447Z",
     "start_time": "2024-06-28T10:20:01.903454Z"
    }
   },
   "outputs": [],
   "source": [
    "amicable_numbers = 10_000\n",
    "\n",
    "def crible_eratosthene(n):\n",
    "    premiers = [True] * (n + 1)\n",
    "    premiers[0] = premiers[1] = False\n",
    "\n",
    "    p = 2\n",
    "    while p * p <= n:\n",
    "        if premiers[p]:\n",
    "            for i in range(p * p, n + 1, p):\n",
    "                premiers[i] = False\n",
    "        p += 1\n",
    "\n",
    "    return [p for p in range(n + 1) if premiers[p]]\n",
    "\n",
    "def trouver_diviseurs(n):\n",
    "    era = crible_eratosthene(n)\n",
    "    original_n = n  # Garder la valeur originale de n\n",
    "    dic = {}\n",
    "\n",
    "    for prime in era:\n",
    "        if n % prime == 0:\n",
    "            count = 0\n",
    "            while n % prime == 0:\n",
    "                n //= prime\n",
    "                count += 1\n",
    "            dic[prime] = count\n",
    "    return dic\n",
    "\n",
    "dic = {2: 3, 3: 2, 7: 2}\n",
    "\n",
    "def generate_combinations(dic):\n",
    "    prime_number = list(dic.keys())\n",
    "    results = []\n",
    "\n",
    "    def all_diviseur(index_dic, current):\n",
    "        if index_dic >= len(prime_number):\n",
    "            results.append(current.copy())\n",
    "            return\n",
    "\n",
    "        prime_key = prime_number[index_dic]\n",
    "        max_exponent = dic[prime_key]\n",
    "\n",
    "        for exponent in range(max_exponent + 1):\n",
    "            current.append(prime_key ** exponent)\n",
    "            all_diviseur(index_dic + 1, current)\n",
    "            current.pop()\n",
    "\n",
    "    all_diviseur(0, [])\n",
    "    return results\n",
    "\n",
    "def list_all_diviseur():\n",
    "    diviseur = []\n",
    "    combinations = generate_combinations(dic)\n",
    "    for combi in combinations:\n",
    "        product = 1\n",
    "        for number in combi:\n",
    "            product *= number\n",
    "        diviseur.append(product)\n",
    "    return diviseur\n",
    "\n",
    "def create_dic_n_diviseur(n):\n",
    "    divisors_dict = {}\n",
    "    for i in range(2, n + 1):\n",
    "        divisors = list_all_diviseur(i)\n",
    "        divisors_dict[i] = divisors\n",
    "    return divisors_dict\n",
    "\n",
    "for i in range(1,amicable_numbers):\n",
    "    print(create_dic_n_diviseur(i))\n"
   ]
  },
  {
   "cell_type": "code",
   "execution_count": 1,
   "id": "6aca43b52f202148",
   "metadata": {
    "ExecuteTime": {
     "end_time": "2024-07-03T15:51:41.993464Z",
     "start_time": "2024-07-03T15:51:41.923699Z"
    }
   },
   "outputs": [
    {
     "name": "stdout",
     "output_type": "stream",
     "text": [
      "31626\n"
     ]
    }
   ],
   "source": [
    "def find_divider(n):\n",
    "    divisors = [1]\n",
    "    for i in range(2, int(n**0.5) + 1):\n",
    "        if n % i == 0:\n",
    "            divisors.append(i)\n",
    "            if i != n // i:\n",
    "                divisors.append(n // i)\n",
    "    return divisors\n",
    "adi = 0\n",
    "for i in range(1, 10001):\n",
    "    sum_divi = sum(find_divider(i))\n",
    "    f_b = sum(find_divider(sum_divi))\n",
    "    if i == f_b and i != sum_divi:\n",
    "        adi += i\n",
    "print(adi)"
   ]
  },
  {
   "cell_type": "markdown",
   "id": "eded855ebda6eba4",
   "metadata": {},
   "source": [
    "# Problem 22\n",
    "\n",
    "## Names Scores\n",
    "\n",
    "Using names.txt (right click and 'Save Link/Target As...'), a 46K text file containing over five-thousand first names, begin by sorting it into alphabetical order. Then working out the alphabetical value for each name, multiply this value by its alphabetical position in the list to obtain a name score.\n",
    "\n",
    "For example, when the list is sorted into alphabetical order, COLIN, which is worth \n",
    "3 + 15 + 12 + 9 + 14 = 53, is the \n",
    "th name in the list. So, COLIN would obtain a score of \n",
    "938 * 53 = 49714\n",
    "\n",
    "What is the total of all the name scores in the file?"
   ]
  },
  {
   "cell_type": "markdown",
   "id": "2b57c9324b25211d",
   "metadata": {},
   "source": []
  },
  {
   "cell_type": "code",
   "execution_count": 22,
   "id": "df27a784dd8ff3d8",
   "metadata": {
    "ExecuteTime": {
     "end_time": "2024-07-19T15:03:06.004128Z",
     "start_time": "2024-07-19T15:03:05.861583Z"
    }
   },
   "outputs": [
    {
     "name": "stdout",
     "output_type": "stream",
     "text": [
      "871198282\n"
     ]
    }
   ],
   "source": [
    "with open('0022_names.txt') as f:\n",
    "    contenu = f.read()\n",
    "    contenu = contenu.replace('\"','')\n",
    "    contenu = contenu.split(\",\")\n",
    "    contenu.sort()\n",
    "\n",
    "sum_of_fichier_txt =0\n",
    "for prenom in  contenu:\n",
    "    sum_of_prenom = 0\n",
    "    for lettre in prenom:\n",
    "        sum_of_prenom += ord(lettre) - ord('A') +1\n",
    "    sum_of_fichier_txt += sum_of_prenom * (contenu.index(prenom)+1)\n",
    "print(sum_of_fichier_txt)\n"
   ]
  },
  {
   "cell_type": "markdown",
   "id": "f686bc5431ca0a90",
   "metadata": {},
   "source": [
    "# Problem 23\n",
    "\n",
    "## Non-abundant Sums \n"
   ]
  },
  {
   "cell_type": "code",
   "execution_count": 5,
   "id": "4fc96744616a51df",
   "metadata": {
    "ExecuteTime": {
     "end_time": "2024-07-25T10:29:36.175115Z",
     "start_time": "2024-07-25T10:24:12.614511Z"
    }
   },
   "outputs": [
    {
     "name": "stdout",
     "output_type": "stream",
     "text": [
      "je passe au gros\n",
      "4179871\n"
     ]
    }
   ],
   "source": [
    "def deficient():\n",
    "    #pour diviser un nombre\n",
    "    dic_des_diviseur = {}\n",
    "\n",
    "    for i in range(1, 29):\n",
    "        sum_des_diviseur = 0\n",
    "        for y in range(1, i // 2 + 1):\n",
    "            if i % y == 0:\n",
    "                sum_des_diviseur +=y\n",
    "            if sum_des_diviseur == i :\n",
    "                print(i,'est un nombre prafait')\n",
    "\n",
    "def nombres_abondants(limite=28123):\n",
    "    list_des_nombres_abondant = []\n",
    "    for i in range(1,limite+1):\n",
    "        somme_des_diviseur = 0\n",
    "        for y in range(1, i // 2 + 1):\n",
    "            if i%y == 0:\n",
    "                somme_des_diviseur += y\n",
    "        if i < somme_des_diviseur:\n",
    "            list_des_nombres_abondant.append(i)\n",
    "    return list_des_nombres_abondant\n",
    "\n",
    "def somme_all_nombres_abondants(table, limite=28123):\n",
    "    list_sum_nombres_abondants = []\n",
    "    for i in range(len(table)):\n",
    "        for j in range(i, len(table)):  # Commence à i pour éviter les doublons\n",
    "            somme = table[i] + table[j]\n",
    "            if somme <= limite:\n",
    "                list_sum_nombres_abondants.append(somme)\n",
    "    return list_sum_nombres_abondants\n",
    "\n",
    "abondants = nombres_abondants()\n",
    "somme_abondants = somme_all_nombres_abondants(abondants)\n",
    "\n",
    "print(\"je passe au gros\")\n",
    "indise = 0\n",
    "somme =0\n",
    "for i in range(1, 28124):  # Inclure 28123\n",
    "    if i not in somme_abondants:\n",
    "        somme += i\n",
    "\n",
    "print(somme)"
   ]
  },
  {
   "cell_type": "markdown",
   "id": "55acfd3d58b54c24",
   "metadata": {},
   "source": [
    "Version qui est plus rapide "
   ]
  },
  {
   "cell_type": "code",
   "execution_count": 4,
   "id": "fc3e021c0f8870aa",
   "metadata": {
    "ExecuteTime": {
     "end_time": "2024-07-25T10:23:48.019850Z",
     "start_time": "2024-07-25T10:23:39.778177Z"
    }
   },
   "outputs": [
    {
     "name": "stdout",
     "output_type": "stream",
     "text": [
      "je passe au gros\n",
      "4179871\n"
     ]
    }
   ],
   "source": [
    "def somme_all_nombres_abondants(table, limite=28123):\n",
    "    list_sum_nombres_abondants = set()\n",
    "    for i in range(len(table)):\n",
    "        for j in range(i, len(table)):  # Commence à i pour éviter les doublons\n",
    "            somme = table[i] + table[j]\n",
    "            if somme <= limite:\n",
    "                list_sum_nombres_abondants.add(somme)\n",
    "    return list_sum_nombres_abondants\n",
    "\n",
    "abondants = nombres_abondants()\n",
    "somme_abondants = somme_all_nombres_abondants(abondants)\n",
    "\n",
    "print(\"je passe au gros\")\n",
    "indise = 0\n",
    "somme =0\n",
    "for i in range(1, 28124):  # Inclure 28123\n",
    "    if i not in somme_abondants:\n",
    "        somme += i\n",
    "\n",
    "print(somme)"
   ]
  },
  {
   "cell_type": "markdown",
   "id": "1541829990069a48",
   "metadata": {},
   "source": [
    "# Probleme 24\n",
    "\n",
    "## Lexicographic Permutations\n"
   ]
  },
  {
   "cell_type": "code",
   "id": "74428da4e45e4d89",
   "metadata": {
    "ExecuteTime": {
     "end_time": "2024-08-09T11:20:24.752447Z",
     "start_time": "2024-08-09T11:20:23.266754Z"
    }
   },
   "source": [
    "def recursive_permute(current_permutation, remaining_elements, counter=[0]):\n",
    "    if len(remaining_elements) == 0:\n",
    "        counter[0] += 1\n",
    "        if counter[0] == 1_000_000:\n",
    "            return current_permutation\n",
    "        return None\n",
    "\n",
    "    for i in range(len(remaining_elements)):\n",
    "        new_permutation = current_permutation + remaining_elements[i]\n",
    "        new_remaining_elements = remaining_elements[:i] + remaining_elements[i+1:]\n",
    "        result = recursive_permute(new_permutation,new_remaining_elements, counter)\n",
    "\n",
    "        if result:\n",
    "            return result\n",
    "\n",
    "    return None\n",
    "\n",
    "\n",
    "\n",
    "\n",
    "lexicographic = ['0', '1', '2', '3', '4', '5', '6', '7', '8', '9']\n",
    "\n",
    "result = recursive_permute('',lexicographic)\n",
    "\n",
    "print(result)"
   ],
   "outputs": [
    {
     "name": "stdout",
     "output_type": "stream",
     "text": [
      "2783915460\n"
     ]
    }
   ],
   "execution_count": 1
  },
  {
   "metadata": {},
   "cell_type": "markdown",
   "source": [
    "# Probleme 25\n",
    "\n",
    "## 1000-digit Fibonacci Number\n",
    "\n",
    "The Fibonacci sequence is defined by the recurrence relation:\n",
    "\n",
    "Fn = Fn-1 + Fn-2, where F1 =1 and F2 =1.\n",
    "Hence the first 12 terms will be:\n",
    "\n",
    " \n",
    "The \n",
    "th term, \n",
    ", is the first term to contain three digits.\n",
    "\n",
    "What is the index of the first term in the Fibonacci sequence to contain \n",
    " digits?"
   ],
   "id": "96b1f61d8bc9fdbd"
  },
  {
   "metadata": {
    "ExecuteTime": {
     "end_time": "2024-08-12T14:46:23.965444Z",
     "start_time": "2024-08-12T14:46:23.929443Z"
    }
   },
   "cell_type": "code",
   "source": [
    "def fibonacci_next_terme(tableuax):\n",
    "    fibonacci_terme_suivant = tableuax[-1] + tableuax[-2]\n",
    "    tableuax.append(fibonacci_terme_suivant)\n",
    "    return tableuax\n",
    "\n",
    "\n",
    "fibonacci_tableaux = [0, 1]\n",
    "\n",
    "while 1000 > len(str(fibonacci_tableaux[-1])):\n",
    "    resulta = fibonacci_next_terme(fibonacci_tableaux)\n",
    "\n",
    "\n",
    "print(fibonacci_tableaux.index(fibonacci_tableaux[-1]))"
   ],
   "id": "5259e0fb44a3137e",
   "outputs": [
    {
     "name": "stdout",
     "output_type": "stream",
     "text": [
      "4782\n"
     ]
    }
   ],
   "execution_count": 8
  },
  {
   "metadata": {},
   "cell_type": "markdown",
   "source": [
    "# Probleme 26\n",
    "\n",
    "## reciprocal Cycles\n",
    "\n",
    "Une fraction unitaire contient 1 au numérateur. La représentation décimale des fractions unitaires de dénominateurs 2 à 10 est donnée :\n",
    "\n",
    "Où 0,1(6) signifie 0,16666, et a un cycle récurrent à 1 chiffre. \n",
    "cycle récurrent à 1 chiffre. On peut constater que \n",
    " a un cycle récurrent de 6 chiffres.\n",
    "\n",
    "Trouvez la valeur de d < 1000 pour laquelle 1/d contient le plus long cycle récurrent dans sa partie fraction décimale.\n",
    "\n",
    "Traduit avec DeepL.com (version gratuite)"
   ],
   "id": "3352ee83ec320468"
  },
  {
   "metadata": {
    "ExecuteTime": {
     "end_time": "2024-08-16T06:51:57.836916Z",
     "start_time": "2024-08-16T06:51:57.496873Z"
    }
   },
   "cell_type": "code",
   "source": [
    "len_of_recurence_max = 0\n",
    "\n",
    "for diviseur in range(2,1000,1):\n",
    "    list_restes = []\n",
    "    len_of_recurence =0\n",
    "    dividande = 1\n",
    "\n",
    "    while True:\n",
    "        reste = dividande % diviseur\n",
    "\n",
    "        if reste in list_restes:\n",
    "            len_of_recurence = len(list_restes) - list_restes.index(reste)\n",
    "            break\n",
    "\n",
    "        if reste ==0:\n",
    "            len_of_recurence = 0\n",
    "            break\n",
    "\n",
    "        dividande = reste * 10\n",
    "        list_restes.append(reste)\n",
    "\n",
    "\n",
    "    if len_of_recurence_max < len_of_recurence:\n",
    "            len_of_recurence_max = len_of_recurence\n",
    "            reponse = diviseur\n",
    "\n",
    "print(reponse)"
   ],
   "id": "accc1666cff8fce6",
   "outputs": [
    {
     "name": "stdout",
     "output_type": "stream",
     "text": [
      "983\n"
     ]
    }
   ],
   "execution_count": 6
  },
  {
   "metadata": {},
   "cell_type": "markdown",
   "source": [
    "# Exercise 27\n",
    "\n",
    "## Quadratic Primes\n"
   ],
   "id": "bab487192274b717"
  },
  {
   "metadata": {
    "ExecuteTime": {
     "end_time": "2024-08-25T10:31:54.230910Z",
     "start_time": "2024-08-25T10:31:50.103317Z"
    }
   },
   "cell_type": "code",
   "source": [
    "import math\n",
    "\n",
    "\n",
    "def is_prime(n):\n",
    "    if n == 2:\n",
    "        return True\n",
    "    if n % 2 == 0:\n",
    "        return False\n",
    "\n",
    "    for diviseur in range(3, int(math.sqrt(n)) + 1, 2):\n",
    "        if n % diviseur == 0:\n",
    "            return False\n",
    "    return True\n",
    "\n",
    "\n",
    "compteur = 0\n",
    "max_n = 0\n",
    "max_a=0\n",
    "max_b=0\n",
    "\n",
    "for a in range(-1000, 1001):\n",
    "    for b in range(-1000, 1001):\n",
    "        n = 0\n",
    "        while True:\n",
    "            suite = n * n + a * n + b\n",
    "            if suite <= 0 or not is_prime(suite):\n",
    "                break\n",
    "            n += 1\n",
    "\n",
    "            if max_n < n:\n",
    "                max_n = n\n",
    "                max_a = a\n",
    "                max_b = b\n",
    "print(max_n,max_b*max_a)\n"
   ],
   "id": "373e775b4f083394",
   "outputs": [
    {
     "name": "stdout",
     "output_type": "stream",
     "text": [
      "71 -59231\n"
     ]
    }
   ],
   "execution_count": 6
  },
  {
   "metadata": {},
   "cell_type": "markdown",
   "source": [
    "## Problem 28\n",
    "\n",
    "# Number Spiral Diagonals\n"
   ],
   "id": "d1f003ec5209cc26"
  },
  {
   "metadata": {},
   "cell_type": "code",
   "outputs": [],
   "execution_count": null,
   "source": "for 5",
   "id": "9e71ebcfb728f8f2"
  }
 ],
 "metadata": {
  "kernelspec": {
   "display_name": "Python 3 (ipykernel)",
   "language": "python",
   "name": "python3"
  },
  "language_info": {
   "codemirror_mode": {
    "name": "ipython",
    "version": 3
   },
   "file_extension": ".py",
   "mimetype": "text/x-python",
   "name": "python",
   "nbconvert_exporter": "python",
   "pygments_lexer": "ipython3",
   "version": "3.9.13"
  }
 },
 "nbformat": 4,
 "nbformat_minor": 5
}
