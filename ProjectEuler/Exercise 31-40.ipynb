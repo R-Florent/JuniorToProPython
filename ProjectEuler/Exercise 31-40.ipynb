{
 "cells": [
  {
   "metadata": {},
   "cell_type": "markdown",
   "source": "# Exercise 31",
   "id": "98ca84af924c34c0"
  },
  {
   "metadata": {
    "ExecuteTime": {
     "end_time": "2024-09-11T12:52:24.379438Z",
     "start_time": "2024-09-11T12:52:24.362877Z"
    }
   },
   "cell_type": "code",
   "source": [
    "import math\n",
    "\n",
    "one_coin = 1\n",
    "two_coin = 2\n",
    "five_coin= 5\n",
    "ten_coin = 10\n",
    "twenty_coin = 20\n",
    "fity = 50\n",
    "one_hundred\t= 100\n",
    "two_hundred = 200\n",
    "\n",
    "cible = 200\n",
    "valeurs = [one_coin,two_coin,five_coin,ten_coin,twenty_coin,fity,one_hundred,two_hundred]\n",
    "print(valeurs)\n",
    "conteur =0\n",
    "i= 0\n",
    "ways = [0*cible+1]\n",
    "print(ways)\n",
    "for valeur in valeurs:\n",
    "    while i < cible:\n",
    "        i +=valeur\n",
    "    conteur +=1\n",
    "\n",
    "print(conteur)\n",
    "    \n",
    "   "
   ],
   "id": "b088a60343471f8",
   "outputs": [
    {
     "name": "stdout",
     "output_type": "stream",
     "text": [
      "[1, 2, 5, 10, 20, 50, 100, 200]\n",
      "[1]\n",
      "8\n"
     ]
    }
   ],
   "execution_count": 7
  },
  {
   "metadata": {
    "jupyter": {
     "is_executing": true
    }
   },
   "cell_type": "code",
   "source": [
    "fruits = [\"a\",\"b\",\"c\",\"d\",\"e\"]\n",
    "\n",
    "\n",
    "for a in fruits:\n",
    "    print(a)\n",
    "    \n"
   ],
   "id": "f821629a35e4e2f3",
   "outputs": [],
   "execution_count": null
  },
  {
   "metadata": {},
   "cell_type": "markdown",
   "source": [
    "# Exercise 32\n",
    "\n",
    "55 est le nombre de nombres premiers circulaires en dessous d'un million.\n",
    "\n"
   ],
   "id": "79e1c49b3ff72bba"
  },
  {
   "metadata": {
    "ExecuteTime": {
     "end_time": "2024-09-14T13:57:11.063158Z",
     "start_time": "2024-09-14T13:56:53.746547Z"
    }
   },
   "cell_type": "code",
   "source": [
    "resulte = 0\n",
    "doublons = []\n",
    "for a in range(1, 999):\n",
    "    for b in range(1, 9999):\n",
    "        produit = str(a * b)\n",
    "        multiplicateur_a = str(a)\n",
    "        multiplicatuer_b = str(b)\n",
    "        valeur_a_examiner = produit + multiplicateur_a + multiplicatuer_b\n",
    "\n",
    "        if len(valeur_a_examiner) == 9 and all(all_digit in valeur_a_examiner for all_digit in '123456789') and a * b not in doublons:\n",
    "            doublons.append(a * b)\n",
    "            resulte += int(a * b)\n",
    "print(resulte)\n"
   ],
   "id": "d5804291aedc2e05",
   "outputs": [
    {
     "name": "stdout",
     "output_type": "stream",
     "text": [
      "45228\n"
     ]
    }
   ],
   "execution_count": 31
  },
  {
   "metadata": {},
   "cell_type": "markdown",
   "source": "",
   "id": "ce1ce41a061dd81e"
  },
  {
   "metadata": {
    "ExecuteTime": {
     "end_time": "2024-09-14T13:50:35.852264Z",
     "start_time": "2024-09-14T13:50:34.682022Z"
    }
   },
   "cell_type": "code",
   "source": [
    "from itertools import permutations\n",
    "\n",
    "# Créer un ensemble pour stocker les produits pandigitaux uniques\n",
    "produits_pandigitaux = set()\n",
    "\n",
    "# Permutations des chiffres de 1 à 9\n",
    "for p in permutations('123456789'):\n",
    "    p = ''.join(p)\n",
    "    a, b, produit = int(p[:2]), int(p[2:5]), int(p[5:9])\n",
    "    if a * b == produit:\n",
    "        produits_pandigitaux.add(produit)\n",
    "    \n",
    "    a, b, produit = int(p[:1]), int(p[1:5]), int(p[5:9])\n",
    "    if a * b == produit:\n",
    "        produits_pandigitaux.add(produit)\n",
    "\n",
    "# Calcul de la somme des produits uniques\n",
    "print(f\"Somme des produits pandigitaux : {sum(produits_pandigitaux)}\")\n"
   ],
   "id": "f282c08ada05540f",
   "outputs": [
    {
     "name": "stdout",
     "output_type": "stream",
     "text": [
      "Somme des produits pandigitaux : 45228\n"
     ]
    }
   ],
   "execution_count": 27
  },
  {
   "metadata": {},
   "cell_type": "markdown",
   "source": [
    "# Digit Cancelling Fractions\n",
    "\n",
    "## Problem"
   ],
   "id": "716a9ac5d5730e8"
  },
  {
   "metadata": {
    "ExecuteTime": {
     "end_time": "2024-09-16T12:31:13.655276Z",
     "start_time": "2024-09-16T12:31:13.633730Z"
    }
   },
   "cell_type": "code",
   "source": [
    "from fractions import Fraction\n",
    "\n",
    "produit = 1\n",
    "for diviseur in range(10, 100):\n",
    "    for dividende in range(10, 100):\n",
    "        if '0' in str(dividende):\n",
    "            continue\n",
    "\n",
    "        match_case_diviseur = list(str(diviseur))\n",
    "        match_case_dividende = list(str(dividende))\n",
    "\n",
    "        chiffre_commun = ''\n",
    "\n",
    "        for c in match_case_diviseur:\n",
    "            if c in match_case_dividende:\n",
    "                chiffre_commun = c\n",
    "                break\n",
    "\n",
    "        if chiffre_commun:\n",
    "\n",
    "            try:\n",
    "                curious_diviseur = int(str(diviseur).replace(chiffre_commun, '', 1))\n",
    "                curious_dividende = int(str(dividende).replace(chiffre_commun, '', 1))\n",
    "                \n",
    "                Quotient_division = diviseur / dividende\n",
    "                curious_quotient = curious_diviseur / curious_dividende\n",
    "\n",
    "                if Quotient_division == curious_quotient and diviseur < dividende:\n",
    "                    print(f\"{diviseur}/{dividende} = {curious_diviseur}/{curious_dividende} est une fraction curieuse\")\n",
    "                    produit *= Fraction(diviseur, dividende)\n",
    "            except:\n",
    "                continue\n",
    "                \n",
    "# Afficher le produit final simplifié\n",
    "print(\"Produit final des fractions curieuses simplifié :\", produit)\n",
    "print(\"Le dénominateur de la fraction simplifiée :\", produit.denominator)\n",
    "                "
   ],
   "id": "358da79411bd908b",
   "outputs": [
    {
     "name": "stdout",
     "output_type": "stream",
     "text": [
      "16/64 = 1/4 est une fraction curieuse\n",
      "19/95 = 1/5 est une fraction curieuse\n",
      "26/65 = 2/5 est une fraction curieuse\n",
      "49/98 = 4/8 est une fraction curieuse\n",
      "Produit final des fractions curieuses simplifié : 1/100\n",
      "Le dénominateur de la fraction simplifiée : 100\n"
     ]
    }
   ],
   "execution_count": 4
  },
  {
   "metadata": {},
   "cell_type": "markdown",
   "source": [
    "# Digit Factorials\n",
    "\n",
    "## Problem 34 Projet Euler\n",
    "\n",
    "  145 is a curious number, as 1!+4!+5! = 1+24+120=145\n",
    "\n",
    "Find the sum of all numbers which are equal to the sum of the factorial of their digits.\n",
    "\n",
    "Note: As 1! and 2! = 2 are not sums they are not included.\n"
   ],
   "id": "db489ffb256ae72"
  },
  {
   "metadata": {
    "ExecuteTime": {
     "end_time": "2024-09-16T12:48:23.549965Z",
     "start_time": "2024-09-16T12:48:22.118221Z"
    }
   },
   "cell_type": "code",
   "source": [
    "import math\n",
    "sum_curious_number =0\n",
    "for n in range(3,3_000_00):\n",
    "    nombre_parser = list(str(n))\n",
    "    curious_number =0\n",
    "    for chiffre in nombre_parser:\n",
    "        curious_number += math.factorial(int(chiffre))\n",
    "        if curious_number == n:\n",
    "            print(n,\"est un nombre curieux\")\n",
    "            sum_curious_number += n\n",
    "\n",
    "print(sum_curious_number)    "
   ],
   "id": "aab8acf215ae5322",
   "outputs": [
    {
     "name": "stdout",
     "output_type": "stream",
     "text": [
      "145 est un nombre curieux\n",
      "40585 est un nombre curieux\n",
      "40730\n"
     ]
    }
   ],
   "execution_count": 10
  },
  {
   "metadata": {},
   "cell_type": "markdown",
   "source": "# Probleme 35",
   "id": "7f1d0747f694cfcf"
  },
  {
   "metadata": {
    "ExecuteTime": {
     "end_time": "2024-09-20T07:42:36.057514Z",
     "start_time": "2024-09-20T07:40:48.202565Z"
    }
   },
   "cell_type": "code",
   "source": [
    "liste_des_primer_rotatif = []\n",
    "\n",
    "def crible_eratosthene(limite):\n",
    "    # Initialiser une liste de booléens pour représenter les nombres premiers\n",
    "    est_premier = [True] * (limite + 1)  # Tous les nombres sont potentiellement premiers\n",
    "    est_premier[0] = est_premier[1] = False  # 0 et 1 ne sont pas premiers\n",
    "\n",
    "    # Parcourir les nombres et éliminer les multiples\n",
    "    for i in range(2, int(limite**0.5) + 1):\n",
    "        if est_premier[i]:\n",
    "            # Marquer tous les multiples de i comme non premiers\n",
    "            for multiple in range(i * i, limite + 1, i):\n",
    "                est_premier[multiple] = False\n",
    "\n",
    "    # Retourner tous les nombres premiers\n",
    "    return [num for num, premier in enumerate(est_premier) if premier]\n",
    "\n",
    "def primer_circulaire(prime):\n",
    "    is_prime_rotate = rote_number(prime)\n",
    "    for e in is_prime_rotate:\n",
    "        if e not in nombres_premiers:\n",
    "            return False\n",
    "\n",
    "    return True\n",
    "\n",
    "def rote_number(n):\n",
    "    n_str= str(n)\n",
    "    tableaux_ratoation_de_n = []\n",
    "\n",
    "    for i in range(len(n_str)):\n",
    "        n_rotation = \"\"\n",
    "        for e in range(len(n_str)):\n",
    "            n_rotation += n_str[(e-i)%len(n_str)]\n",
    "\n",
    "        tableaux_ratoation_de_n.append(int(n_rotation))\n",
    "\n",
    "    return tableaux_ratoation_de_n\n",
    "\n",
    "\n",
    "\n",
    "limite = 1_000_000\n",
    "nombres_premiers = crible_eratosthene(limite)\n",
    "for e in nombres_premiers:\n",
    "    if primer_circulaire(e) == True:\n",
    "        liste_des_primer_rotatif.append(e)\n",
    "\n",
    "\n",
    "print(len(liste_des_primer_rotatif))"
   ],
   "id": "6e924378bdb82ed6",
   "outputs": [
    {
     "name": "stdout",
     "output_type": "stream",
     "text": [
      "55\n"
     ]
    }
   ],
   "execution_count": 1
  },
  {
   "metadata": {},
   "cell_type": "markdown",
   "source": [
    "# Probleme 36\n",
    "\n",
    "Le nombre décimal (binaire) est palindromique dans les deux bases.\n",
    "\n",
    "Trouvez la somme de tous les nombres, inférieurs à un million, qui sont palindromiques en base 2 \n",
    " et en base  10\n",
    ".\n",
    "\n",
    "(Veuillez noter que le nombre palindromique, dans l'une ou l'autre base, ne peut pas inclure de zéros initiaux).\n",
    "\n",
    "c'est a dire que c'est un nombre qui se li a la fois de gauche a droite et de droite a gauche \n",
    "\n",
    "12321 = palindrome"
   ],
   "id": "3b5f1a3e3f21fc23"
  },
  {
   "metadata": {
    "ExecuteTime": {
     "end_time": "2024-09-20T08:55:12.521663Z",
     "start_time": "2024-09-20T08:55:10.991232Z"
    }
   },
   "cell_type": "code",
   "source": [
    "liste_des_palindrom = []\n",
    "def is_palindrome(n):\n",
    "    \n",
    "    str_n = str(n)\n",
    "    milieu = len(str_n) // 2\n",
    "    if len(str_n)%3 == 0:\n",
    "        str_n = str_n[:milieu] + str_n[milieu+1:]\n",
    "        \n",
    "    right_side = (str_n[:milieu])\n",
    "    left_side = (str_n[milieu:])\n",
    "    if right_side == left_side:\n",
    "        return True\n",
    "    \n",
    "def is_palindrome_binary(n):\n",
    "    n_bin = bin(n)[2:]  # Convertir en binaire et enlever le préfixe '0b'\n",
    "    return n_bin == n_bin[::-1] \n",
    "    \n",
    "for e in range(1,1_000_000):\n",
    "    if is_palindrome(e):\n",
    "        liste_des_palindrom.append(e)\n",
    "\n",
    "resulte =0\n",
    "for e in liste_des_palindrom:\n",
    "    if is_palindrome_binary(e):\n",
    "        resulte += e\n",
    "        \n",
    "print(resulte)\n",
    "\n"
   ],
   "id": "5ba897ebdd7f72a6",
   "outputs": [
    {
     "name": "stdout",
     "output_type": "stream",
     "text": [
      "1747\n"
     ]
    }
   ],
   "execution_count": 20
  },
  {
   "metadata": {
    "ExecuteTime": {
     "end_time": "2024-09-20T08:54:47.318248Z",
     "start_time": "2024-09-20T08:54:46.193344Z"
    }
   },
   "cell_type": "code",
   "source": [
    "liste_des_palindromes = []\n",
    "\n",
    "# Fonction pour vérifier si un nombre est un palindrome en base 10\n",
    "def is_palindrome(n):\n",
    "    str_n = str(n)\n",
    "    return str_n == str_n[::-1]  # Vérifie si la chaîne est égale à elle-même inversée\n",
    "\n",
    "# Fonction pour vérifier si un nombre est un palindrome en binaire\n",
    "def is_palindrome_binary(n):\n",
    "    n_bin = bin(n)[2:]  # Convertir en binaire et enlever le préfixe '0b'\n",
    "    return n_bin == n_bin[::-1]  # Vérifie si la chaîne binaire est égale à elle-même inversée\n",
    "\n",
    "# Ajouter les nombres palindromes en base 10 à la liste\n",
    "for e in range(1, 1_000_000):\n",
    "    if is_palindrome(e):\n",
    "        liste_des_palindromes.append(e)\n",
    "\n",
    "# Calculer la somme des nombres qui sont aussi des palindromes en binaire\n",
    "resultat = 0\n",
    "for e in liste_des_palindromes:\n",
    "    if is_palindrome_binary(e):\n",
    "        resultat += e\n",
    "\n",
    "print(resultat)\n"
   ],
   "id": "81f64e636359cb21",
   "outputs": [
    {
     "name": "stdout",
     "output_type": "stream",
     "text": [
      "872187\n"
     ]
    }
   ],
   "execution_count": 19
  },
  {
   "metadata": {},
   "cell_type": "markdown",
   "source": "",
   "id": "19007ac48c6bda29"
  }
 ],
 "metadata": {
  "kernelspec": {
   "display_name": "Python 3",
   "language": "python",
   "name": "python3"
  },
  "language_info": {
   "codemirror_mode": {
    "name": "ipython",
    "version": 2
   },
   "file_extension": ".py",
   "mimetype": "text/x-python",
   "name": "python",
   "nbconvert_exporter": "python",
   "pygments_lexer": "ipython2",
   "version": "2.7.6"
  }
 },
 "nbformat": 4,
 "nbformat_minor": 5
}
