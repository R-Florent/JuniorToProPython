{
 "cells": [
  {
   "metadata": {},
   "cell_type": "markdown",
   "source": "# Exercise 31",
   "id": "98ca84af924c34c0"
  },
  {
   "metadata": {
    "ExecuteTime": {
     "end_time": "2024-09-04T10:48:32.224342Z",
     "start_time": "2024-09-04T10:48:32.210335Z"
    }
   },
   "cell_type": "code",
   "source": [
    "one_coin = 1\n",
    "two_coin = 2\n",
    "five_coin= 5\n",
    "ten_coin = 10\n",
    "twenty_coin = 20\n",
    "fity = 50\n",
    "one_hundred\t= 100\n",
    "two_hundred = 200\n",
    "\n",
    "valeur = [one_coin,two_coin,five_coin,ten_coin,twenty_coin,fity,one_hundred,two_hundred]\n",
    "print(valeur)\n",
    "    "
   ],
   "id": "b088a60343471f8",
   "outputs": [
    {
     "name": "stdout",
     "output_type": "stream",
     "text": [
      "[1, 2, 5, 10, 20, 50, 100, 200]\n"
     ]
    }
   ],
   "execution_count": 4
  },
  {
   "metadata": {},
   "cell_type": "code",
   "outputs": [],
   "execution_count": null,
   "source": [
    "fruits = [\"a\",\"b\",\"c\",\"d\",\"e\"]\n",
    "\n",
    "\n",
    "for i in range(len(fruits)):\n",
    "    for y in\n",
    "    \n"
   ],
   "id": "f821629a35e4e2f3"
  }
 ],
 "metadata": {
  "kernelspec": {
   "display_name": "Python 3",
   "language": "python",
   "name": "python3"
  },
  "language_info": {
   "codemirror_mode": {
    "name": "ipython",
    "version": 2
   },
   "file_extension": ".py",
   "mimetype": "text/x-python",
   "name": "python",
   "nbconvert_exporter": "python",
   "pygments_lexer": "ipython2",
   "version": "2.7.6"
  }
 },
 "nbformat": 4,
 "nbformat_minor": 5
}
