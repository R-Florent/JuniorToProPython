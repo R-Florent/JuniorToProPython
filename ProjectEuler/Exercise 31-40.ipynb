{
 "cells": [
  {
   "metadata": {},
   "cell_type": "markdown",
   "source": "# Exercise 31",
   "id": "98ca84af924c34c0"
  },
  {
   "metadata": {
    "ExecuteTime": {
     "end_time": "2024-09-11T12:52:24.379438Z",
     "start_time": "2024-09-11T12:52:24.362877Z"
    }
   },
   "cell_type": "code",
   "source": [
    "import math\n",
    "\n",
    "one_coin = 1\n",
    "two_coin = 2\n",
    "five_coin= 5\n",
    "ten_coin = 10\n",
    "twenty_coin = 20\n",
    "fity = 50\n",
    "one_hundred\t= 100\n",
    "two_hundred = 200\n",
    "\n",
    "cible = 200\n",
    "valeurs = [one_coin,two_coin,five_coin,ten_coin,twenty_coin,fity,one_hundred,two_hundred]\n",
    "print(valeurs)\n",
    "conteur =0\n",
    "i= 0\n",
    "ways = [0*cible+1]\n",
    "print(ways)\n",
    "for valeur in valeurs:\n",
    "    while i < cible:\n",
    "        i +=valeur\n",
    "    conteur +=1\n",
    "\n",
    "print(conteur)\n",
    "    \n",
    "   "
   ],
   "id": "b088a60343471f8",
   "outputs": [
    {
     "name": "stdout",
     "output_type": "stream",
     "text": [
      "[1, 2, 5, 10, 20, 50, 100, 200]\n",
      "[1]\n",
      "8\n"
     ]
    }
   ],
   "execution_count": 7
  },
  {
   "metadata": {
    "ExecuteTime": {
     "end_time": "2024-09-11T12:26:59.206658Z",
     "start_time": "2024-09-11T12:26:59.197841Z"
    }
   },
   "cell_type": "code",
   "source": [
    "fruits = [\"a\",\"b\",\"c\",\"d\",\"e\"]\n",
    "\n",
    "\n",
    "for a in fruits:\n",
    "    print(a)\n",
    "    \n"
   ],
   "id": "f821629a35e4e2f3",
   "outputs": [
    {
     "name": "stdout",
     "output_type": "stream",
     "text": [
      "a\n",
      "b\n",
      "c\n",
      "d\n",
      "e\n"
     ]
    }
   ],
   "execution_count": 2
  },
  {
   "metadata": {},
   "cell_type": "markdown",
   "source": [
    "# Exercise 32\n",
    "\n",
    "55 est le nombre de nombres premiers circulaires en dessous d'un million.\n",
    "\n"
   ],
   "id": "79e1c49b3ff72bba"
  },
  {
   "metadata": {
    "ExecuteTime": {
     "end_time": "2024-09-14T13:57:11.063158Z",
     "start_time": "2024-09-14T13:56:53.746547Z"
    }
   },
   "cell_type": "code",
   "source": [
    "resulte = 0\n",
    "doublons = []\n",
    "for a in range(1, 999):\n",
    "    for b in range(1, 9999):\n",
    "        produit = str(a * b)\n",
    "        multiplicateur_a = str(a)\n",
    "        multiplicatuer_b = str(b)\n",
    "        valeur_a_examiner = produit + multiplicateur_a + multiplicatuer_b\n",
    "\n",
    "        if len(valeur_a_examiner) == 9 and all(all_digit in valeur_a_examiner for all_digit in '123456789') and a * b not in doublons:\n",
    "            doublons.append(a * b)\n",
    "            resulte += int(a * b)\n",
    "print(resulte)\n"
   ],
   "id": "d5804291aedc2e05",
   "outputs": [
    {
     "name": "stdout",
     "output_type": "stream",
     "text": [
      "45228\n"
     ]
    }
   ],
   "execution_count": 31
  },
  {
   "metadata": {},
   "cell_type": "markdown",
   "source": "",
   "id": "ce1ce41a061dd81e"
  },
  {
   "metadata": {
    "ExecuteTime": {
     "end_time": "2024-09-14T13:50:35.852264Z",
     "start_time": "2024-09-14T13:50:34.682022Z"
    }
   },
   "cell_type": "code",
   "source": [
    "from itertools import permutations\n",
    "\n",
    "# Créer un ensemble pour stocker les produits pandigitaux uniques\n",
    "produits_pandigitaux = set()\n",
    "\n",
    "# Permutations des chiffres de 1 à 9\n",
    "for p in permutations('123456789'):\n",
    "    p = ''.join(p)\n",
    "    a, b, produit = int(p[:2]), int(p[2:5]), int(p[5:9])\n",
    "    if a * b == produit:\n",
    "        produits_pandigitaux.add(produit)\n",
    "    \n",
    "    a, b, produit = int(p[:1]), int(p[1:5]), int(p[5:9])\n",
    "    if a * b == produit:\n",
    "        produits_pandigitaux.add(produit)\n",
    "\n",
    "# Calcul de la somme des produits uniques\n",
    "print(f\"Somme des produits pandigitaux : {sum(produits_pandigitaux)}\")\n"
   ],
   "id": "f282c08ada05540f",
   "outputs": [
    {
     "name": "stdout",
     "output_type": "stream",
     "text": [
      "Somme des produits pandigitaux : 45228\n"
     ]
    }
   ],
   "execution_count": 27
  },
  {
   "metadata": {},
   "cell_type": "markdown",
   "source": [
    "# Digit Cancelling Fractions\n",
    "\n",
    "## Problem"
   ],
   "id": "716a9ac5d5730e8"
  },
  {
   "metadata": {
    "ExecuteTime": {
     "end_time": "2024-09-16T12:31:13.655276Z",
     "start_time": "2024-09-16T12:31:13.633730Z"
    }
   },
   "cell_type": "code",
   "source": [
    "from fractions import Fraction\n",
    "\n",
    "produit = 1\n",
    "for diviseur in range(10, 100):\n",
    "    for dividende in range(10, 100):\n",
    "        if '0' in str(dividende):\n",
    "            continue\n",
    "\n",
    "        match_case_diviseur = list(str(diviseur))\n",
    "        match_case_dividende = list(str(dividende))\n",
    "\n",
    "        chiffre_commun = ''\n",
    "\n",
    "        for c in match_case_diviseur:\n",
    "            if c in match_case_dividende:\n",
    "                chiffre_commun = c\n",
    "                break\n",
    "\n",
    "        if chiffre_commun:\n",
    "\n",
    "            try:\n",
    "                curious_diviseur = int(str(diviseur).replace(chiffre_commun, '', 1))\n",
    "                curious_dividende = int(str(dividende).replace(chiffre_commun, '', 1))\n",
    "                \n",
    "                Quotient_division = diviseur / dividende\n",
    "                curious_quotient = curious_diviseur / curious_dividende\n",
    "\n",
    "                if Quotient_division == curious_quotient and diviseur < dividende:\n",
    "                    print(f\"{diviseur}/{dividende} = {curious_diviseur}/{curious_dividende} est une fraction curieuse\")\n",
    "                    produit *= Fraction(diviseur, dividende)\n",
    "            except:\n",
    "                continue\n",
    "                \n",
    "# Afficher le produit final simplifié\n",
    "print(\"Produit final des fractions curieuses simplifié :\", produit)\n",
    "print(\"Le dénominateur de la fraction simplifiée :\", produit.denominator)\n",
    "                "
   ],
   "id": "358da79411bd908b",
   "outputs": [
    {
     "name": "stdout",
     "output_type": "stream",
     "text": [
      "16/64 = 1/4 est une fraction curieuse\n",
      "19/95 = 1/5 est une fraction curieuse\n",
      "26/65 = 2/5 est une fraction curieuse\n",
      "49/98 = 4/8 est une fraction curieuse\n",
      "Produit final des fractions curieuses simplifié : 1/100\n",
      "Le dénominateur de la fraction simplifiée : 100\n"
     ]
    }
   ],
   "execution_count": 4
  },
  {
   "metadata": {},
   "cell_type": "markdown",
   "source": [
    "# Digit Factorials\n",
    "\n",
    "## Problem 34 Projet Euler\n",
    "\n",
    "  145 is a curious number, as 1!+4!+5! = 1+24+120=145\n",
    "\n",
    "Find the sum of all numbers which are equal to the sum of the factorial of their digits.\n",
    "\n",
    "Note: As 1! and 2! = 2 are not sums they are not included.\n"
   ],
   "id": "db489ffb256ae72"
  },
  {
   "metadata": {
    "ExecuteTime": {
     "end_time": "2024-09-16T12:48:23.549965Z",
     "start_time": "2024-09-16T12:48:22.118221Z"
    }
   },
   "cell_type": "code",
   "source": [
    "import math\n",
    "sum_curious_number =0\n",
    "for n in range(3,3_000_00):\n",
    "    nombre_parser = list(str(n))\n",
    "    curious_number =0\n",
    "    for chiffre in nombre_parser:\n",
    "        curious_number += math.factorial(int(chiffre))\n",
    "        if curious_number == n:\n",
    "            print(n,\"est un nombre curieux\")\n",
    "            sum_curious_number += n\n",
    "\n",
    "print(sum_curious_number)    "
   ],
   "id": "aab8acf215ae5322",
   "outputs": [
    {
     "name": "stdout",
     "output_type": "stream",
     "text": [
      "145 est un nombre curieux\n",
      "40585 est un nombre curieux\n",
      "40730\n"
     ]
    }
   ],
   "execution_count": 10
  },
  {
   "metadata": {},
   "cell_type": "markdown",
   "source": "# Probleme 35",
   "id": "7f1d0747f694cfcf"
  },
  {
   "metadata": {
    "ExecuteTime": {
     "end_time": "2024-09-18T17:42:53.351010Z",
     "start_time": "2024-09-18T17:41:42.256610Z"
    }
   },
   "cell_type": "code",
   "source": [
    "liste_des_primer_rotatif = []\n",
    "\n",
    "def crible_eratosthene(limite):\n",
    "    # Initialiser une liste de booléens pour représenter les nombres premiers\n",
    "    est_premier = [True] * (limite + 1)  # Tous les nombres sont potentiellement premiers\n",
    "    est_premier[0] = est_premier[1] = False  # 0 et 1 ne sont pas premiers\n",
    "\n",
    "    # Parcourir les nombres et éliminer les multiples\n",
    "    for i in range(2, int(limite**0.5) + 1):\n",
    "        if est_premier[i]:\n",
    "            # Marquer tous les multiples de i comme non premiers\n",
    "            for multiple in range(i * i, limite + 1, i):\n",
    "                est_premier[multiple] = False\n",
    "\n",
    "    # Retourner tous les nombres premiers\n",
    "    return [num for num, premier in enumerate(est_premier) if premier]\n",
    "\n",
    "def primer_circulaire(prime):\n",
    "    is_prime_rotate = rote_number(prime)\n",
    "    for e in is_prime_rotate:\n",
    "        if e not in nombres_premiers:\n",
    "            return False\n",
    "\n",
    "    return True\n",
    "\n",
    "def rote_number(n):\n",
    "    n_str= str(n)\n",
    "    tableaux_ratoation_de_n = []\n",
    "\n",
    "    for i in range(len(n_str)):\n",
    "        n_rotation = \"\"\n",
    "        for e in range(len(n_str)):\n",
    "            n_rotation += n_str[(e-i)%len(n_str)]\n",
    "\n",
    "        tableaux_ratoation_de_n.append(int(n_rotation))\n",
    "\n",
    "    return tableaux_ratoation_de_n\n",
    "\n",
    "\n",
    "\n",
    "limite = 1_000_000\n",
    "nombres_premiers = crible_eratosthene(limite)\n",
    "for e in nombres_premiers:\n",
    "    if primer_circulaire(e) == True:\n",
    "        liste_des_primer_rotatif.append(e)\n",
    "\n",
    "\n",
    "print(len(liste_des_primer_rotatif))"
   ],
   "id": "6e924378bdb82ed6",
   "outputs": [
    {
     "ename": "KeyboardInterrupt",
     "evalue": "",
     "output_type": "error",
     "traceback": [
      "\u001B[1;31m---------------------------------------------------------------------------\u001B[0m",
      "\u001B[1;31mKeyboardInterrupt\u001B[0m                         Traceback (most recent call last)",
      "Cell \u001B[1;32mIn[5], line 45\u001B[0m\n\u001B[0;32m     43\u001B[0m nombres_premiers \u001B[38;5;241m=\u001B[39m crible_eratosthene(limite)\n\u001B[0;32m     44\u001B[0m \u001B[38;5;28;01mfor\u001B[39;00m e \u001B[38;5;129;01min\u001B[39;00m nombres_premiers:\n\u001B[1;32m---> 45\u001B[0m     \u001B[43mprimer_circulaire\u001B[49m\u001B[43m(\u001B[49m\u001B[43me\u001B[49m\u001B[43m)\u001B[49m\n\u001B[0;32m     47\u001B[0m \u001B[38;5;28mprint\u001B[39m(\u001B[38;5;28mlen\u001B[39m(liste_des_primer_rotatif))\n",
      "Cell \u001B[1;32mIn[5], line 19\u001B[0m, in \u001B[0;36mprimer_circulaire\u001B[1;34m(prime)\u001B[0m\n\u001B[0;32m     18\u001B[0m \u001B[38;5;28;01mdef\u001B[39;00m \u001B[38;5;21mprimer_circulaire\u001B[39m(prime):\n\u001B[1;32m---> 19\u001B[0m     is_prime_rotate \u001B[38;5;241m=\u001B[39m \u001B[43mrote_number\u001B[49m\u001B[43m(\u001B[49m\u001B[43mprime\u001B[49m\u001B[43m)\u001B[49m\n\u001B[0;32m     20\u001B[0m     \u001B[38;5;28;01mfor\u001B[39;00m e \u001B[38;5;129;01min\u001B[39;00m is_prime_rotate:\n\u001B[0;32m     21\u001B[0m         \u001B[38;5;28;01mif\u001B[39;00m e \u001B[38;5;129;01min\u001B[39;00m nombres_premiers:\n",
      "Cell \u001B[1;32mIn[5], line 33\u001B[0m, in \u001B[0;36mrote_number\u001B[1;34m(n)\u001B[0m\n\u001B[0;32m     31\u001B[0m \u001B[38;5;28;01mfor\u001B[39;00m i \u001B[38;5;129;01min\u001B[39;00m \u001B[38;5;28mrange\u001B[39m(\u001B[38;5;28mlen\u001B[39m(n_str)):\n\u001B[0;32m     32\u001B[0m     n_rotation \u001B[38;5;241m=\u001B[39m \u001B[38;5;124m\"\u001B[39m\u001B[38;5;124m\"\u001B[39m\n\u001B[1;32m---> 33\u001B[0m \u001B[43m    \u001B[49m\u001B[38;5;28;43;01mfor\u001B[39;49;00m\u001B[43m \u001B[49m\u001B[43me\u001B[49m\u001B[43m \u001B[49m\u001B[38;5;129;43;01min\u001B[39;49;00m\u001B[43m \u001B[49m\u001B[38;5;28;43mrange\u001B[39;49m\u001B[43m(\u001B[49m\u001B[38;5;28;43mlen\u001B[39;49m\u001B[43m(\u001B[49m\u001B[43mn_str\u001B[49m\u001B[43m)\u001B[49m\u001B[43m)\u001B[49m\u001B[43m:\u001B[49m\n\u001B[0;32m     34\u001B[0m \u001B[43m        \u001B[49m\u001B[43mn_rotation\u001B[49m\u001B[43m \u001B[49m\u001B[38;5;241;43m+\u001B[39;49m\u001B[38;5;241;43m=\u001B[39;49m\u001B[43m \u001B[49m\u001B[43mn_str\u001B[49m\u001B[43m[\u001B[49m\u001B[43m(\u001B[49m\u001B[43me\u001B[49m\u001B[38;5;241;43m-\u001B[39;49m\u001B[43mi\u001B[49m\u001B[43m)\u001B[49m\u001B[38;5;241;43m%\u001B[39;49m\u001B[38;5;28;43mlen\u001B[39;49m\u001B[43m(\u001B[49m\u001B[43mn_str\u001B[49m\u001B[43m)\u001B[49m\u001B[43m]\u001B[49m\n\u001B[0;32m     36\u001B[0m     tableaux_ratoation_de_n\u001B[38;5;241m.\u001B[39mappend(\u001B[38;5;28mint\u001B[39m(n_rotation))\n",
      "File \u001B[1;32m_pydevd_bundle\\\\pydevd_cython_win32_312_64.pyx:1187\u001B[0m, in \u001B[0;36m_pydevd_bundle.pydevd_cython_win32_312_64.SafeCallWrapper.__call__\u001B[1;34m()\u001B[0m\n",
      "File \u001B[1;32m_pydevd_bundle\\\\pydevd_cython_win32_312_64.pyx:627\u001B[0m, in \u001B[0;36m_pydevd_bundle.pydevd_cython_win32_312_64.PyDBFrame.trace_dispatch\u001B[1;34m()\u001B[0m\n",
      "File \u001B[1;32m_pydevd_bundle\\\\pydevd_cython_win32_312_64.pyx:1103\u001B[0m, in \u001B[0;36m_pydevd_bundle.pydevd_cython_win32_312_64.PyDBFrame.trace_dispatch\u001B[1;34m()\u001B[0m\n",
      "File \u001B[1;32m_pydevd_bundle\\\\pydevd_cython_win32_312_64.pyx:1061\u001B[0m, in \u001B[0;36m_pydevd_bundle.pydevd_cython_win32_312_64.PyDBFrame.trace_dispatch\u001B[1;34m()\u001B[0m\n",
      "File \u001B[1;32mC:\\Program Files\\JetBrains\\PyCharm 2024.1\\plugins\\python\\helpers-pro\\jupyter_debug\\pydev_jupyter_plugin.py:169\u001B[0m, in \u001B[0;36mstop\u001B[1;34m(plugin, pydb, frame, event, args, stop_info, arg, step_cmd)\u001B[0m\n\u001B[0;32m    167\u001B[0m     frame \u001B[38;5;241m=\u001B[39m suspend_jupyter(main_debugger, thread, frame, step_cmd)\n\u001B[0;32m    168\u001B[0m     \u001B[38;5;28;01mif\u001B[39;00m frame:\n\u001B[1;32m--> 169\u001B[0m         \u001B[43mmain_debugger\u001B[49m\u001B[38;5;241;43m.\u001B[39;49m\u001B[43mdo_wait_suspend\u001B[49m\u001B[43m(\u001B[49m\u001B[43mthread\u001B[49m\u001B[43m,\u001B[49m\u001B[43m \u001B[49m\u001B[43mframe\u001B[49m\u001B[43m,\u001B[49m\u001B[43m \u001B[49m\u001B[43mevent\u001B[49m\u001B[43m,\u001B[49m\u001B[43m \u001B[49m\u001B[43marg\u001B[49m\u001B[43m)\u001B[49m\n\u001B[0;32m    170\u001B[0m         \u001B[38;5;28;01mreturn\u001B[39;00m \u001B[38;5;28;01mTrue\u001B[39;00m\n\u001B[0;32m    171\u001B[0m \u001B[38;5;28;01mreturn\u001B[39;00m \u001B[38;5;28;01mFalse\u001B[39;00m\n",
      "File \u001B[1;32mC:\\Program Files\\JetBrains\\PyCharm 2024.1\\plugins\\python\\helpers\\pydev\\pydevd.py:1185\u001B[0m, in \u001B[0;36mPyDB.do_wait_suspend\u001B[1;34m(self, thread, frame, event, arg, send_suspend_message, is_unhandled_exception)\u001B[0m\n\u001B[0;32m   1182\u001B[0m         from_this_thread\u001B[38;5;241m.\u001B[39mappend(frame_id)\n\u001B[0;32m   1184\u001B[0m \u001B[38;5;28;01mwith\u001B[39;00m \u001B[38;5;28mself\u001B[39m\u001B[38;5;241m.\u001B[39m_threads_suspended_single_notification\u001B[38;5;241m.\u001B[39mnotify_thread_suspended(thread_id, stop_reason):\n\u001B[1;32m-> 1185\u001B[0m     \u001B[38;5;28;43mself\u001B[39;49m\u001B[38;5;241;43m.\u001B[39;49m\u001B[43m_do_wait_suspend\u001B[49m\u001B[43m(\u001B[49m\u001B[43mthread\u001B[49m\u001B[43m,\u001B[49m\u001B[43m \u001B[49m\u001B[43mframe\u001B[49m\u001B[43m,\u001B[49m\u001B[43m \u001B[49m\u001B[43mevent\u001B[49m\u001B[43m,\u001B[49m\u001B[43m \u001B[49m\u001B[43marg\u001B[49m\u001B[43m,\u001B[49m\u001B[43m \u001B[49m\u001B[43msuspend_type\u001B[49m\u001B[43m,\u001B[49m\u001B[43m \u001B[49m\u001B[43mfrom_this_thread\u001B[49m\u001B[43m)\u001B[49m\n",
      "File \u001B[1;32mC:\\Program Files\\JetBrains\\PyCharm 2024.1\\plugins\\python\\helpers\\pydev\\pydevd.py:1200\u001B[0m, in \u001B[0;36mPyDB._do_wait_suspend\u001B[1;34m(self, thread, frame, event, arg, suspend_type, from_this_thread)\u001B[0m\n\u001B[0;32m   1197\u001B[0m             \u001B[38;5;28mself\u001B[39m\u001B[38;5;241m.\u001B[39m_call_mpl_hook()\n\u001B[0;32m   1199\u001B[0m         \u001B[38;5;28mself\u001B[39m\u001B[38;5;241m.\u001B[39mprocess_internal_commands()\n\u001B[1;32m-> 1200\u001B[0m         \u001B[43mtime\u001B[49m\u001B[38;5;241;43m.\u001B[39;49m\u001B[43msleep\u001B[49m\u001B[43m(\u001B[49m\u001B[38;5;241;43m0.01\u001B[39;49m\u001B[43m)\u001B[49m\n\u001B[0;32m   1202\u001B[0m \u001B[38;5;28mself\u001B[39m\u001B[38;5;241m.\u001B[39mcancel_async_evaluation(get_current_thread_id(thread), \u001B[38;5;28mstr\u001B[39m(\u001B[38;5;28mid\u001B[39m(frame)))\n\u001B[0;32m   1204\u001B[0m \u001B[38;5;66;03m# process any stepping instructions\u001B[39;00m\n",
      "\u001B[1;31mKeyboardInterrupt\u001B[0m: "
     ]
    }
   ],
   "execution_count": 5
  }
 ],
 "metadata": {
  "kernelspec": {
   "display_name": "Python 3",
   "language": "python",
   "name": "python3"
  },
  "language_info": {
   "codemirror_mode": {
    "name": "ipython",
    "version": 2
   },
   "file_extension": ".py",
   "mimetype": "text/x-python",
   "name": "python",
   "nbconvert_exporter": "python",
   "pygments_lexer": "ipython2",
   "version": "2.7.6"
  }
 },
 "nbformat": 4,
 "nbformat_minor": 5
}
