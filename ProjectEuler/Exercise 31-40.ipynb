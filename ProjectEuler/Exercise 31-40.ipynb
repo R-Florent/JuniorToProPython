{
 "cells": [
  {
   "metadata": {},
   "cell_type": "markdown",
   "source": "# Exercise 31",
   "id": "98ca84af924c34c0"
  },
  {
   "metadata": {
    "ExecuteTime": {
     "end_time": "2024-09-11T12:52:24.379438Z",
     "start_time": "2024-09-11T12:52:24.362877Z"
    }
   },
   "cell_type": "code",
   "source": [
    "one_coin = 1\n",
    "two_coin = 2\n",
    "five_coin= 5\n",
    "ten_coin = 10\n",
    "twenty_coin = 20\n",
    "fity = 50\n",
    "one_hundred\t= 100\n",
    "two_hundred = 200\n",
    "\n",
    "cible = 200\n",
    "valeurs = [one_coin,two_coin,five_coin,ten_coin,twenty_coin,fity,one_hundred,two_hundred]\n",
    "print(valeurs)\n",
    "conteur =0\n",
    "i= 0\n",
    "ways = [0*cible+1]\n",
    "print(ways)\n",
    "for valeur in valeurs:\n",
    "    while i < cible:\n",
    "        i +=valeur\n",
    "    conteur +=1\n",
    "\n",
    "print(conteur)\n",
    "    \n",
    "   "
   ],
   "id": "b088a60343471f8",
   "outputs": [
    {
     "name": "stdout",
     "output_type": "stream",
     "text": [
      "[1, 2, 5, 10, 20, 50, 100, 200]\n",
      "[1]\n",
      "8\n"
     ]
    }
   ],
   "execution_count": 7
  },
  {
   "metadata": {
    "ExecuteTime": {
     "end_time": "2024-09-11T12:26:59.206658Z",
     "start_time": "2024-09-11T12:26:59.197841Z"
    }
   },
   "cell_type": "code",
   "source": [
    "fruits = [\"a\",\"b\",\"c\",\"d\",\"e\"]\n",
    "\n",
    "\n",
    "for a in fruits:\n",
    "    print(a)\n",
    "    \n"
   ],
   "id": "f821629a35e4e2f3",
   "outputs": [
    {
     "name": "stdout",
     "output_type": "stream",
     "text": [
      "a\n",
      "b\n",
      "c\n",
      "d\n",
      "e\n"
     ]
    }
   ],
   "execution_count": 2
  },
  {
   "metadata": {},
   "cell_type": "markdown",
   "source": [
    "# Exercise 32\n",
    "\n",
    "55 est le nombre de nombres premiers circulaires en dessous d'un million.\n",
    "\n"
   ],
   "id": "79e1c49b3ff72bba"
  },
  {
   "metadata": {
    "ExecuteTime": {
     "end_time": "2024-09-14T13:57:11.063158Z",
     "start_time": "2024-09-14T13:56:53.746547Z"
    }
   },
   "cell_type": "code",
   "source": [
    "resulte = 0\n",
    "doublons = []\n",
    "for a in range(1, 999):\n",
    "    for b in range(1, 9999):\n",
    "        produit = str(a * b)\n",
    "        multiplicateur_a = str(a)\n",
    "        multiplicatuer_b = str(b)\n",
    "        valeur_a_examiner = produit + multiplicateur_a + multiplicatuer_b\n",
    "\n",
    "        if len(valeur_a_examiner) == 9 and all(all_digit in valeur_a_examiner for all_digit in '123456789') and a * b not in doublons:\n",
    "            doublons.append(a * b)\n",
    "            resulte += int(a * b)\n",
    "print(resulte)\n"
   ],
   "id": "d5804291aedc2e05",
   "outputs": [
    {
     "name": "stdout",
     "output_type": "stream",
     "text": [
      "45228\n"
     ]
    }
   ],
   "execution_count": 31
  },
  {
   "metadata": {},
   "cell_type": "markdown",
   "source": "",
   "id": "ce1ce41a061dd81e"
  },
  {
   "metadata": {
    "ExecuteTime": {
     "end_time": "2024-09-14T13:50:35.852264Z",
     "start_time": "2024-09-14T13:50:34.682022Z"
    }
   },
   "cell_type": "code",
   "source": [
    "from itertools import permutations\n",
    "\n",
    "# Créer un ensemble pour stocker les produits pandigitaux uniques\n",
    "produits_pandigitaux = set()\n",
    "\n",
    "# Permutations des chiffres de 1 à 9\n",
    "for p in permutations('123456789'):\n",
    "    p = ''.join(p)\n",
    "    a, b, produit = int(p[:2]), int(p[2:5]), int(p[5:9])\n",
    "    if a * b == produit:\n",
    "        produits_pandigitaux.add(produit)\n",
    "    \n",
    "    a, b, produit = int(p[:1]), int(p[1:5]), int(p[5:9])\n",
    "    if a * b == produit:\n",
    "        produits_pandigitaux.add(produit)\n",
    "\n",
    "# Calcul de la somme des produits uniques\n",
    "print(f\"Somme des produits pandigitaux : {sum(produits_pandigitaux)}\")\n"
   ],
   "id": "f282c08ada05540f",
   "outputs": [
    {
     "name": "stdout",
     "output_type": "stream",
     "text": [
      "Somme des produits pandigitaux : 45228\n"
     ]
    }
   ],
   "execution_count": 27
  },
  {
   "metadata": {},
   "cell_type": "markdown",
   "source": [
    "# Digit Cancelling Fractions\n",
    "\n",
    "## Problem"
   ],
   "id": "716a9ac5d5730e8"
  },
  {
   "metadata": {
    "ExecuteTime": {
     "end_time": "2024-09-15T19:08:58.790344Z",
     "start_time": "2024-09-15T19:08:58.768075Z"
    }
   },
   "cell_type": "code",
   "source": [
    "produit =1\n",
    "for diviseur in range (10,100):\n",
    "    for dividende in range (10,100):\n",
    "        if '0' in str(dividende):\n",
    "            continue\n",
    "            \n",
    "        match_case_diviseur = list(str(diviseur))\n",
    "        match_case_dividende = list(str(dividende))\n",
    "        \n",
    "        chiffre_commun = ''\n",
    "        \n",
    "        for c in match_case_diviseur:\n",
    "            if c in match_case_dividende:\n",
    "                chiffre_commun = c\n",
    "                break\n",
    "        \n",
    "        if chiffre_commun:\n",
    "            \n",
    "            try:\n",
    "                curious_diviseur = int(str(diviseur).replace(chiffre_commun, '', 1))\n",
    "                curious_dividende = int(str(diviseur).replace(chiffre_commun, '', 1))\n",
    "                \n",
    "                Quotient_division = diviseur/dividende\n",
    "                curious_quotient = curious_diviseur/curious_dividende\n",
    "                \n",
    "                \n",
    "                if Quotient_division == curious_quotient and diviseur < dividende:\n",
    "                    print(\"bg ta réusse\")\n",
    "                    produit *= diviseur/dividende\n",
    "            except :\n",
    "                continue\n",
    "print(produit)\n",
    "                "
   ],
   "id": "358da79411bd908b",
   "outputs": [
    {
     "name": "stdout",
     "output_type": "stream",
     "text": [
      "1\n"
     ]
    }
   ],
   "execution_count": 63
  },
  {
   "metadata": {
    "ExecuteTime": {
     "end_time": "2024-09-15T19:07:45.462296Z",
     "start_time": "2024-09-15T19:07:45.418561Z"
    }
   },
   "cell_type": "code",
   "source": [
    "from fractions import Fraction\n",
    "\n",
    "produit = Fraction(1, 1)  # Utiliser Fraction pour obtenir le produit final\n",
    "for diviseur in range(10, 100):\n",
    "    for dividende in range(10, 100):\n",
    "        if '0' in str(dividende):\n",
    "            continue\n",
    "            \n",
    "        match_case_diviseur = list(str(diviseur))\n",
    "        match_case_dividende = list(str(dividende))\n",
    "        \n",
    "        chiffre_commun = ''\n",
    "        \n",
    "        for c in match_case_diviseur:\n",
    "            if c in match_case_dividende:\n",
    "                chiffre_commun = c\n",
    "                break\n",
    "        \n",
    "        if chiffre_commun and chiffre_commun != '0':\n",
    "            try:\n",
    "                curious_diviseur = int(str(diviseur).replace(chiffre_commun, '', 1))\n",
    "                curious_dividende = int(str(dividende).replace(chiffre_commun, '', 1))\n",
    "                \n",
    "                if curious_dividende == 0:  # Éviter la division par zéro\n",
    "                    continue\n",
    "\n",
    "                # Calculer les quotients\n",
    "                Quotient_division = diviseur / dividende\n",
    "                curious_quotient = curious_diviseur / curious_dividende\n",
    "                \n",
    "                # Vérifier si les fractions sont équivalentes\n",
    "                if Quotient_division == curious_quotient and diviseur < dividende:\n",
    "                    print(f\"{diviseur}/{dividende} = {curious_diviseur}/{curious_dividende} est une fraction curieuse\")\n",
    "                    produit *= Fraction(diviseur, dividende)\n",
    "            except (ValueError, ZeroDivisionError):\n",
    "                continue\n",
    "\n",
    "# Afficher le produit final simplifié\n",
    "print(\"Produit final des fractions curieuses simplifié :\", produit)\n",
    "print(\"Le dénominateur de la fraction simplifiée :\", produit.denominator)\n"
   ],
   "id": "43aef2ad416656e",
   "outputs": [
    {
     "name": "stdout",
     "output_type": "stream",
     "text": [
      "16/64 = 1/4 est une fraction curieuse\n",
      "19/95 = 1/5 est une fraction curieuse\n",
      "26/65 = 2/5 est une fraction curieuse\n",
      "49/98 = 4/8 est une fraction curieuse\n",
      "Produit final des fractions curieuses simplifié : 1/100\n",
      "Le dénominateur de la fraction simplifiée : 100\n"
     ]
    }
   ],
   "execution_count": 60
  }
 ],
 "metadata": {
  "kernelspec": {
   "display_name": "Python 3",
   "language": "python",
   "name": "python3"
  },
  "language_info": {
   "codemirror_mode": {
    "name": "ipython",
    "version": 2
   },
   "file_extension": ".py",
   "mimetype": "text/x-python",
   "name": "python",
   "nbconvert_exporter": "python",
   "pygments_lexer": "ipython2",
   "version": "2.7.6"
  }
 },
 "nbformat": 4,
 "nbformat_minor": 5
}
