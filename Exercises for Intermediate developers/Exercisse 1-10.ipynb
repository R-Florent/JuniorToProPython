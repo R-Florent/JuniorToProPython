{
 "cells": [
  {
   "metadata": {},
   "cell_type": "markdown",
   "source": "Exercise 1: Reverse each word of a string",
   "id": "c31d0de5d46aabc3"
  },
  {
   "metadata": {
    "ExecuteTime": {
     "end_time": "2024-05-01T11:45:31.566113Z",
     "start_time": "2024-05-01T11:45:31.541411Z"
    }
   },
   "cell_type": "code",
   "source": [
    "str = 'My Name is Jessa'\n",
    "\n",
    "x= str.split()\n",
    "print(x)\n",
    "\n",
    "reversed_string = [i[::-1] for i in x] \n",
    "print(reversed_string)\n",
    "\n",
    "reversed_string= ' '.join(reversed_string)\n",
    "print(reversed_string)"
   ],
   "id": "24093856009ad251",
   "outputs": [
    {
     "name": "stdout",
     "output_type": "stream",
     "text": [
      "['My', 'Name', 'is', 'Jessa']\n",
      "['yM', 'emaN', 'si', 'asseJ']\n",
      "yM emaN si asseJ\n"
     ]
    }
   ],
   "execution_count": 27
  },
  {
   "metadata": {
    "ExecuteTime": {
     "end_time": "2024-05-01T11:41:53.167650Z",
     "start_time": "2024-05-01T11:41:53.151300Z"
    }
   },
   "cell_type": "code",
   "source": [
    "# Exercise to reverse each word  of a string\n",
    "def reverse_words(Sentence):\n",
    "    # Split string on whitespace\n",
    "    words = Sentence.split(\" \")\n",
    "\n",
    "    # iterate list and reverse each word using ::-1\n",
    "    new_word_list = [word[::-1] for word in words]\n",
    "    \n",
    "    # Joining the new list of words\n",
    "    res_str = \" \".join(new_word_list)\n",
    "    return res_str\n",
    "\n",
    "# Given String\n",
    "str1 = \"My Name is Jessa\"\n",
    "print(reverse_words(str1))"
   ],
   "id": "8d67874bce0fd609",
   "outputs": [
    {
     "name": "stdout",
     "output_type": "stream",
     "text": [
      "yM emaN si asseJ\n"
     ]
    }
   ],
   "execution_count": 23
  },
  {
   "metadata": {},
   "cell_type": "markdown",
   "source": "Exercise 2: Read text file into a variable and replace all newlines with space",
   "id": "61254de9a949944e"
  },
  {
   "metadata": {},
   "cell_type": "code",
   "outputs": [],
   "execution_count": null,
   "source": "",
   "id": "98ed4ef20997c328"
  }
 ],
 "metadata": {
  "kernelspec": {
   "display_name": "Python 3",
   "language": "python",
   "name": "python3"
  },
  "language_info": {
   "codemirror_mode": {
    "name": "ipython",
    "version": 2
   },
   "file_extension": ".py",
   "mimetype": "text/x-python",
   "name": "python",
   "nbconvert_exporter": "python",
   "pygments_lexer": "ipython2",
   "version": "2.7.6"
  }
 },
 "nbformat": 4,
 "nbformat_minor": 5
}
