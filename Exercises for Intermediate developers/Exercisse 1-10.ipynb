{
 "cells": [
  {
   "metadata": {},
   "cell_type": "markdown",
   "source": "Exercise 1: Reverse each word of a string",
   "id": "c31d0de5d46aabc3"
  },
  {
   "metadata": {
    "ExecuteTime": {
     "end_time": "2024-05-01T11:45:31.566113Z",
     "start_time": "2024-05-01T11:45:31.541411Z"
    }
   },
   "cell_type": "code",
   "source": [
    "str = 'My Name is Jessa'\n",
    "\n",
    "x= str.split()\n",
    "print(x)\n",
    "\n",
    "reversed_string = [i[::-1] for i in x] \n",
    "print(reversed_string)\n",
    "\n",
    "reversed_string= ' '.join(reversed_string)\n",
    "print(reversed_string)"
   ],
   "id": "24093856009ad251",
   "outputs": [
    {
     "name": "stdout",
     "output_type": "stream",
     "text": [
      "['My', 'Name', 'is', 'Jessa']\n",
      "['yM', 'emaN', 'si', 'asseJ']\n",
      "yM emaN si asseJ\n"
     ]
    }
   ],
   "execution_count": 27
  },
  {
   "metadata": {
    "ExecuteTime": {
     "end_time": "2024-05-01T11:41:53.167650Z",
     "start_time": "2024-05-01T11:41:53.151300Z"
    }
   },
   "cell_type": "code",
   "source": [
    "# Exercise to reverse each word  of a string\n",
    "def reverse_words(Sentence):\n",
    "    # Split string on whitespace\n",
    "    words = Sentence.split(\" \")\n",
    "\n",
    "    # iterate list and reverse each word using ::-1\n",
    "    new_word_list = [word[::-1] for word in words]\n",
    "    # Joining the new list of words\n",
    "    res_str = \" \".join(new_word_list)\n",
    "    return res_str\n",
    "\n",
    "# Given String\n",
    "str1 = \"My Name is Jessa\"\n",
    "print(reverse_words(str1))"
   ],
   "id": "8d67874bce0fd609",
   "outputs": [
    {
     "name": "stdout",
     "output_type": "stream",
     "text": [
      "yM emaN si asseJ\n"
     ]
    }
   ],
   "execution_count": 23
  },
  {
   "metadata": {},
   "cell_type": "markdown",
   "source": "Exercise 2: Read text file into a variable and replace all newlines with space",
   "id": "61254de9a949944e"
  },
  {
   "metadata": {
    "ExecuteTime": {
     "end_time": "2024-05-07T13:02:36.386537Z",
     "start_time": "2024-05-07T13:02:36.370899Z"
    }
   },
   "cell_type": "code",
   "source": [
    "f = open(\"exo2.txt\", \"r\")\n",
    "print(type(f))\n",
    "txt = f.readlines()\n",
    "for x in txt:\n",
    "    x = x.rstrip('\\n,')  # Supprimer le saut de ligne à la fin de chaque ligne\n",
    "    print(x ,end='')\n",
    "f.close()  # N'oubliez pas de fermer le fichier après utilisation\n",
    " "
   ],
   "id": "98ed4ef20997c328",
   "outputs": [
    {
     "name": "stdout",
     "output_type": "stream",
     "text": [
      "<class '_io.TextIOWrapper'>\n",
      "Line1line2line3line4line5"
     ]
    }
   ],
   "execution_count": 17
  },
  {
   "metadata": {
    "ExecuteTime": {
     "end_time": "2024-05-07T13:00:04.607555Z",
     "start_time": "2024-05-07T13:00:04.591925Z"
    }
   },
   "cell_type": "code",
   "source": [
    "a = [1,2,3,4]\n",
    "for e in a:\n",
    "    e = e + 1\n",
    "    print(e)\n",
    "print(a)"
   ],
   "id": "45752c18c6ba24f9",
   "outputs": [
    {
     "name": "stdout",
     "output_type": "stream",
     "text": [
      "2\n",
      "3\n",
      "4\n",
      "5\n",
      "[1, 2, 3, 4]\n"
     ]
    }
   ],
   "execution_count": 16
  },
  {
   "metadata": {},
   "cell_type": "markdown",
   "source": "Exercise 3: Remove items from a list while iterating",
   "id": "2a9836e55ca2f94a"
  },
  {
   "metadata": {
    "ExecuteTime": {
     "end_time": "2024-05-08T08:42:46.099427Z",
     "start_time": "2024-05-08T08:42:46.082856Z"
    }
   },
   "cell_type": "code",
   "source": [
    "number_list = [10, 20, 30, 40, 50, 60, 70, 80, 90, 100]\n",
    "number_list.sort()\n",
    "while number_list[-1] > 50:\n",
    "            number_list.remove(number_list[-1])\n",
    "print(number_list)"
   ],
   "id": "1217021a6d111557",
   "outputs": [
    {
     "name": "stdout",
     "output_type": "stream",
     "text": [
      "[10, 20, 30, 40, 50]\n"
     ]
    }
   ],
   "execution_count": 29
  },
  {
   "metadata": {},
   "cell_type": "markdown",
   "source": "Exercise 4: Reverse Dictionary mapping\n",
   "id": "e0454717a74c7e59"
  },
  {
   "metadata": {
    "ExecuteTime": {
     "end_time": "2024-05-08T14:31:30.306145Z",
     "start_time": "2024-05-08T14:31:30.287122Z"
    }
   },
   "cell_type": "code",
   "source": [
    "ascii_dict = {'A': 65, 'B': 66, 'C': 67, 'D': 68}\n",
    "\n",
    "print(ascii_dict)\n",
    "lis_clef = list(ascii_dict.keys())\n",
    "lis_valeur = list(ascii_dict.values())\n",
    "\n",
    "\n",
    "for i in range(len(ascii_dict)):\n",
    "    ascii_dict.update({lis_valeur[i]:lis_clef [i]})\n",
    "    ascii_dict.pop(lis_clef[i])\n",
    "    \n",
    "\n",
    "\n",
    "print(ascii_dict)"
   ],
   "id": "a68f96a85c8256f",
   "outputs": [
    {
     "name": "stdout",
     "output_type": "stream",
     "text": [
      "{'A': 65, 'B': 66, 'C': 67, 'D': 68}\n",
      "{65: 'A', 66: 'B', 67: 'C', 68: 'D'}\n"
     ]
    }
   ],
   "execution_count": 33
  },
  {
   "metadata": {},
   "cell_type": "markdown",
   "source": "Exercise 5.1 : suppr all the doublon in the list",
   "id": "7787f8754198c6d"
  },
  {
   "metadata": {
    "ExecuteTime": {
     "end_time": "2024-05-08T14:44:59.480193Z",
     "start_time": "2024-05-08T14:44:59.467189Z"
    }
   },
   "cell_type": "code",
   "source": [
    "sample_list = [10, 20, 60, 30, 20, 40, 30, 60, 70, 80]\n",
    "new_list = []\n",
    "for e in sample_list:\n",
    "    if all(e != element for element in new_list):\n",
    "        new_list.append(e)\n",
    "print(new_list)"
   ],
   "id": "68eb67a597975f5d",
   "outputs": [
    {
     "name": "stdout",
     "output_type": "stream",
     "text": [
      "[10, 20, 60, 30, 40, 70, 80]\n"
     ]
    }
   ],
   "execution_count": 37
  },
  {
   "metadata": {},
   "cell_type": "markdown",
   "source": "Exercise 5.2: Display all duplicate items from a list",
   "id": "cf0b3148ab46447a"
  },
  {
   "metadata": {},
   "cell_type": "code",
   "outputs": [],
   "execution_count": null,
   "source": [
    "sample_list = [10, 20, 60, 30, 20, 40, 30, 60, 70, 80]\n",
    "new_list = []\n",
    "\n",
    "for e in sample_list:\n",
    "    if sample_list.count(e) > 1 and e not in new_list :\n",
    "        new_list.append(e)\n",
    "print(new_list)"
   ],
   "id": "c68ba42713cdb3f9"
  },
  {
   "metadata": {},
   "cell_type": "markdown",
   "source": "Exercise 6: Filter dictionary to contain keys present in the given list",
   "id": "50c952147d84bd4c"
  },
  {
   "metadata": {
    "ExecuteTime": {
     "end_time": "2024-05-09T13:33:57.598024Z",
     "start_time": "2024-05-09T13:33:57.591026Z"
    }
   },
   "cell_type": "code",
   "source": [
    "# Dictionary\n",
    "d1 = {'A': 65, 'B': 66, 'C': 67, 'D': 68, 'E': 69, 'F': 70}\n",
    "\n",
    "# Filter dict using following keys\n",
    "l1 = ['A', 'C', 'F']\n",
    "\n",
    "print(d1['A'],d1['C'],d1['F'])\n",
    "print(l1)\n",
    "\n",
    "def flitre_dictionary(dic,lis):\n",
    "     new_dict = [dic[key] for key in lis]\n",
    "     print(new_dict)\n",
    "\n",
    "flitre_dictionary(d1,l1)"
   ],
   "id": "4f984534e2858dca",
   "outputs": [
    {
     "name": "stdout",
     "output_type": "stream",
     "text": [
      "65 67 70\n",
      "['A', 'C', 'F']\n",
      "[65, 67, 70]\n"
     ]
    }
   ],
   "execution_count": 16
  },
  {
   "metadata": {},
   "cell_type": "markdown",
   "source": [
    "\n",
    "Exercise 7: Print the following number pattern\n",
    "1 1 1 1 1 \n",
    "2 2 2 2 \n",
    "3 3 3 \n",
    "4 4 \n",
    "5"
   ],
   "id": "b876c0cae54b4b12"
  },
  {
   "metadata": {
    "ExecuteTime": {
     "end_time": "2024-05-08T08:34:06.096919Z",
     "start_time": "2024-05-08T08:34:06.072408Z"
    }
   },
   "cell_type": "code",
   "source": [
    "x=1\n",
    "for i in range(5,0 ,-1):\n",
    "    for y in range (i):\n",
    "        print(x, end=' ')\n",
    "    print()\n",
    "    x+=1\n",
    "    \n",
    "a = 5\n",
    "for i in range(1,a+1):\n",
    "    temp = str(i)+\" \"\n",
    "    nb_occur = (a+1-i)\n",
    "    print(temp*nb_occur)"
   ],
   "id": "943cebe069e2e400",
   "outputs": [
    {
     "name": "stdout",
     "output_type": "stream",
     "text": [
      "1 1 1 1 1 \n",
      "2 2 2 2 \n",
      "3 3 3 \n",
      "4 4 \n",
      "5 \n",
      "1 1 1 1 1 \n",
      "2 2 2 2 \n",
      "3 3 3 \n",
      "4 4 \n",
      "5 \n"
     ]
    }
   ],
   "execution_count": 25
  },
  {
   "metadata": {},
   "cell_type": "markdown",
   "source": "Exercise 8: Create an inner function",
   "id": "37447327167c9aea"
  },
  {
   "metadata": {},
   "cell_type": "code",
   "outputs": [],
   "execution_count": null,
   "source": [
    "def sting_first (x,y):\n",
    "    \n",
    "    \n",
    "    \n",
    "    \n",
    "\n",
    "sting_first('Emma','Kelly')    "
   ],
   "id": "a6de02d2381d4b32"
  },
  {
   "metadata": {},
   "cell_type": "markdown",
   "source": "Exercise 9: Modify the element of a nested list inside the following list",
   "id": "ca1ce46119ad42a7"
  },
  {
   "metadata": {},
   "cell_type": "code",
   "outputs": [],
   "execution_count": null,
   "source": "list1 = [5, [10, 15, [20, 25, [30, 35], 40], 45], 50]",
   "id": "da60f34e970d514f"
  },
  {
   "metadata": {},
   "cell_type": "markdown",
   "source": "Exercise 10: Access the nested key increment from the following dictionary",
   "id": "a6e26f390cbe4777"
  },
  {
   "metadata": {},
   "cell_type": "code",
   "outputs": [],
   "execution_count": null,
   "source": "",
   "id": "ffad43ef8890b031"
  }
 ],
 "metadata": {
  "kernelspec": {
   "display_name": "Python 3",
   "language": "python",
   "name": "python3"
  },
  "language_info": {
   "codemirror_mode": {
    "name": "ipython",
    "version": 2
   },
   "file_extension": ".py",
   "mimetype": "text/x-python",
   "name": "python",
   "nbconvert_exporter": "python",
   "pygments_lexer": "ipython2",
   "version": "2.7.6"
  }
 },
 "nbformat": 4,
 "nbformat_minor": 5
}
